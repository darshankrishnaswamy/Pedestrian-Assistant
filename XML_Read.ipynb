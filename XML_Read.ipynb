{
 "cells": [
  {
   "cell_type": "code",
   "execution_count": 33,
   "metadata": {},
   "outputs": [],
   "source": [
    "import numpy as np\n",
    "\n",
    "class rectangle:\n",
    "    def __init__(self, xmin, ymin, xmax, ymax):\n",
    "        self.xmin = xmin\n",
    "        self.ymin = ymin\n",
    "        self.xmax = xmax\n",
    "        self.ymax = ymax\n",
    "    \n",
    "    def __repr__(self):\n",
    "        return str(np.array([self.xmin, self.ymin, self.xmax, self.ymax]))\n",
    "    \n",
    "    \n",
    "    def toArray(self):\n",
    "        return np.array([self.xmin, self.ymin, self.xmax, self.ymax])\n",
    "    "
   ]
  },
  {
   "cell_type": "code",
   "execution_count": 34,
   "metadata": {},
   "outputs": [
    {
     "name": "stdout",
     "output_type": "stream",
     "text": [
      "[117 126 160 176]\n"
     ]
    }
   ],
   "source": [
    "import xml.etree.ElementTree as ET\n",
    "\n",
    "green = []\n",
    "red = []\n",
    "xmin = 0\n",
    "ymin = 0\n",
    "xmax = 0\n",
    "ymax = 0\n",
    "tree = ET.parse('images_new_resized/green_new_labels/00000000.xml')\n",
    "root = tree.getroot()\n",
    "for child in root:\n",
    "    if child.tag == 'object' :\n",
    "        for subchild in child:\n",
    "            if subchild.tag == 'bndbox':\n",
    "                for subsubchild in subchild:\n",
    "                    if subsubchild.tag == 'xmin':\n",
    "                        xmin = int(subsubchild.text)\n",
    "                    elif subsubchild.tag == 'ymin':\n",
    "                        ymin = int(subsubchild.text)\n",
    "                    elif subsubchild.tag == 'xmax':\n",
    "                        xmax = int(subsubchild.text)\n",
    "                    elif subsubchild.tag == 'ymax':\n",
    "                        ymax = int(subsubchild.text)\n",
    "a = rectangle(xmin, ymin, xmax, ymax)\n",
    "print(a.toArray())"
   ]
  },
  {
   "cell_type": "code",
   "execution_count": 35,
   "metadata": {},
   "outputs": [
    {
     "name": "stdout",
     "output_type": "stream",
     "text": [
      "[117 126 160 176]\n"
     ]
    }
   ],
   "source": [
    "print(a)"
   ]
  },
  {
   "cell_type": "code",
   "execution_count": null,
   "metadata": {},
   "outputs": [],
   "source": []
  }
 ],
 "metadata": {
  "kernelspec": {
   "display_name": "Python 3",
   "language": "python",
   "name": "python3"
  },
  "language_info": {
   "codemirror_mode": {
    "name": "ipython",
    "version": 3
   },
   "file_extension": ".py",
   "mimetype": "text/x-python",
   "name": "python",
   "nbconvert_exporter": "python",
   "pygments_lexer": "ipython3",
   "version": "3.7.4"
  }
 },
 "nbformat": 4,
 "nbformat_minor": 2
}
