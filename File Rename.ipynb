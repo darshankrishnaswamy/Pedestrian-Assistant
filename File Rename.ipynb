{
 "cells": [
  {
   "cell_type": "code",
   "execution_count": 1,
   "metadata": {},
   "outputs": [],
   "source": [
    "import os\n",
    "import numpy as np"
   ]
  },
  {
   "cell_type": "code",
   "execution_count": 2,
   "metadata": {},
   "outputs": [],
   "source": [
    "for i in range(100,480):\n",
    "    try:\n",
    "        os.rename(\"images_new_resized/green_new/00000\"+str(i)+'.jpg',\"images_new_resized/green_new/00000\"+str(i+500)+'.jpg' )\n",
    "    except:\n",
    "        continue"
   ]
  },
  {
   "cell_type": "code",
   "execution_count": 11,
   "metadata": {},
   "outputs": [],
   "source": [
    "for i in range(100,190):\n",
    "    try:\n",
    "        os.rename(\"images_new_resized/green_new/00000\"+str(i)+'.jpg',\"images_new_resized/green_new/000000\"+str(i-90)+'.jpg' )\n",
    "    except:\n",
    "        continue"
   ]
  },
  {
   "cell_type": "code",
   "execution_count": 12,
   "metadata": {},
   "outputs": [],
   "source": [
    "for i in range(200,2000):\n",
    "    try:\n",
    "        os.rename(\"images_new_resized/green_new/00000\"+str(i)+'.jpg',\"images_new_resized/green_new/00000\"+str(i-100)+'.jpg' )\n",
    "    except:\n",
    "        continue"
   ]
  },
  {
   "cell_type": "code",
   "execution_count": null,
   "metadata": {},
   "outputs": [],
   "source": []
  }
 ],
 "metadata": {
  "kernelspec": {
   "display_name": "Python 3",
   "language": "python",
   "name": "python3"
  },
  "language_info": {
   "codemirror_mode": {
    "name": "ipython",
    "version": 3
   },
   "file_extension": ".py",
   "mimetype": "text/x-python",
   "name": "python",
   "nbconvert_exporter": "python",
   "pygments_lexer": "ipython3",
   "version": "3.7.4"
  }
 },
 "nbformat": 4,
 "nbformat_minor": 2
}
