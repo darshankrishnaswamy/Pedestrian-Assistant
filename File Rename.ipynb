{
 "cells": [
  {
   "cell_type": "code",
   "execution_count": 8,
   "metadata": {},
   "outputs": [],
   "source": [
    "import os\n",
    "import numpy as np\n",
    "import random"
   ]
  },
  {
   "cell_type": "markdown",
   "metadata": {},
   "source": [
    "for i in range(100,480):\n",
    "    try:\n",
    "        os.rename(\"images_new_resized/green_new/00000\"+str(i)+'.jpg',\"images_new_resized/green_new/00000\"+str(i+500)+'.jpg' )\n",
    "    except:\n",
    "        continue"
   ]
  },
  {
   "cell_type": "markdown",
   "metadata": {},
   "source": [
    "for i in range(10,100):\n",
    "    try:\n",
    "        os.rename(\"images_new_resized/green_new/000000\"+str(i)+'.jpg',\"images_new_resized/green_new/000000\"+str(i+500)+'.jpg' )\n",
    "    except:\n",
    "        continue"
   ]
  },
  {
   "cell_type": "markdown",
   "metadata": {},
   "source": [
    "for i in range(0,10):\n",
    "    try:\n",
    "        os.rename(\"images_new_resized/green_new/0000000\"+str(i)+'.jpg',\"images_new_resized/green_new/00000\"+str(i+500)+'.jpg' )\n",
    "    except:\n",
    "        continue"
   ]
  },
  {
   "cell_type": "markdown",
   "metadata": {},
   "source": [
    "for i in range(510,580):\n",
    "    try:\n",
    "        os.rename(\"images_new_resized/green_new/000000\"+str(i)+'.jpg',\"images_new_resized/green_new/00000\"+str(i)+'.jpg' )\n",
    "    except:\n",
    "        continue"
   ]
  },
  {
   "cell_type": "markdown",
   "metadata": {},
   "source": [
    "for i in range(100,480):\n",
    "    try:\n",
    "        os.rename(\"images_new_resized/green_new_labels/00000\"+str(i)+'.xml',\"images_new_resized/green_new_labels/00000\"+str(i+500)+'.xml' )\n",
    "    except:\n",
    "        continue"
   ]
  },
  {
   "cell_type": "markdown",
   "metadata": {},
   "source": [
    "for i in range(10,100):\n",
    "    try:\n",
    "        os.rename(\"images_new_resized/green_new_labels/000000\"+str(i)+'.xml',\"images_new_resized/green_new_labels/00000\"+str(i+500)+'.xml' )\n",
    "    except:\n",
    "        continue"
   ]
  },
  {
   "cell_type": "markdown",
   "metadata": {},
   "source": [
    "for i in range(0,10):\n",
    "    try:\n",
    "        os.rename(\"images_new_resized/green_new_labels/0000000\"+str(i)+'.xml',\"images_new_resized/green_new_labels/00000\"+str(i+500)+'.xml' )\n",
    "    except:\n",
    "        continue"
   ]
  },
  {
   "cell_type": "code",
   "execution_count": 22,
   "metadata": {},
   "outputs": [],
   "source": [
    "\n",
    "for i in range(180):\n",
    "    a = random.randint(0,980)\n",
    "    if a not in l:\n",
    "        l.append(a)\n",
    "        try:\n",
    "            if len(str(a)) == 1:\n",
    "                os.rename(\"images_new_resized/images_new/0000000\"+str(a)+'.jpg',\"images_new_resized/val_images/0000000\"+str(a)+'.jpg' )\n",
    "                try:\n",
    "                    os.rename(\"images_new_resized/labels_new/0000000\"+str(a)+'.xml',\"images_new_resized/val_labels/0000000\"+str(a)+'.xml' )\n",
    "                except:\n",
    "                    pass\n",
    "            elif len(str(a)) == 2:\n",
    "                os.rename(\"images_new_resized/images_new/000000\"+str(a)+'.jpg',\"images_new_resized/val_images/000000\"+str(a)+'.jpg' )\n",
    "                try:\n",
    "                    os.rename(\"images_new_resized/labels_new/000000\"+str(a)+'.xml',\"images_new_resized/val_labels/000000\"+str(a)+'.xml' )\n",
    "                except:\n",
    "                    pass\n",
    "            elif len(str(a)) == 3:\n",
    "                os.rename(\"images_new_resized/images_new/00000\"+str(a)+'.jpg',\"images_new_resized/val_images/00000\"+str(a)+'.jpg' )\n",
    "                try:\n",
    "                    os.rename(\"images_new_resized/labels_new/00000\"+str(a)+'.xml',\"images_new_resized/val_labels/00000\"+str(a)+'.xml' )\n",
    "                except:\n",
    "                    pass\n",
    "        except:\n",
    "            i -= 1\n",
    "            continue\n",
    "    else:\n",
    "        i -= 1\n",
    "        continue"
   ]
  },
  {
   "cell_type": "code",
   "execution_count": null,
   "metadata": {},
   "outputs": [],
   "source": []
  }
 ],
 "metadata": {
  "kernelspec": {
   "display_name": "Python 3",
   "language": "python",
   "name": "python3"
  },
  "language_info": {
   "codemirror_mode": {
    "name": "ipython",
    "version": 3
   },
   "file_extension": ".py",
   "mimetype": "text/x-python",
   "name": "python",
   "nbconvert_exporter": "python",
   "pygments_lexer": "ipython3",
   "version": "3.7.4"
  }
 },
 "nbformat": 4,
 "nbformat_minor": 2
}
