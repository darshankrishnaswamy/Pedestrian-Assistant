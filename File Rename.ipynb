{
 "cells": [
  {
   "cell_type": "code",
   "execution_count": 1,
   "metadata": {},
   "outputs": [],
   "source": [
    "import os\n",
    "import numpy as np"
   ]
  },
  {
   "cell_type": "code",
   "execution_count": 2,
   "metadata": {},
   "outputs": [],
   "source": [
    "for i in range(100,480):\n",
    "    try:\n",
    "        os.rename(\"images_new_resized/green_new/00000\"+str(i)+'.jpg',\"images_new_resized/green_new/00000\"+str(i+500)+'.jpg' )\n",
    "    except:\n",
    "        continue"
   ]
  },
  {
   "cell_type": "code",
   "execution_count": 3,
   "metadata": {},
   "outputs": [],
   "source": [
    "for i in range(10,100):\n",
    "    try:\n",
    "        os.rename(\"images_new_resized/green_new/000000\"+str(i)+'.jpg',\"images_new_resized/green_new/000000\"+str(i+500)+'.jpg' )\n",
    "    except:\n",
    "        continue"
   ]
  },
  {
   "cell_type": "code",
   "execution_count": 4,
   "metadata": {},
   "outputs": [],
   "source": [
    "for i in range(0,10):\n",
    "    try:\n",
    "        os.rename(\"images_new_resized/green_new/0000000\"+str(i)+'.jpg',\"images_new_resized/green_new/00000\"+str(i+500)+'.jpg' )\n",
    "    except:\n",
    "        continue"
   ]
  },
  {
   "cell_type": "code",
   "execution_count": 5,
   "metadata": {},
   "outputs": [],
   "source": [
    "for i in range(100,480):\n",
    "    try:\n",
    "        os.rename(\"images_new_resized/green_new/00000\"+str(i)+'.xml',\"images_new_resized/green_new/00000\"+str(i+500)+'.xml' )\n",
    "    except:\n",
    "        continue"
   ]
  },
  {
   "cell_type": "code",
   "execution_count": 6,
   "metadata": {},
   "outputs": [],
   "source": [
    "for i in range(10,100):\n",
    "    try:\n",
    "        os.rename(\"images_new_resized/green_new/000000\"+str(i)+'.xml',\"images_new_resized/green_new/000000\"+str(i+500)+'.xml' )\n",
    "    except:\n",
    "        continue"
   ]
  },
  {
   "cell_type": "code",
   "execution_count": 7,
   "metadata": {},
   "outputs": [],
   "source": [
    "for i in range(0,10):\n",
    "    try:\n",
    "        os.rename(\"images_new_resized/green_new_labels/0000000\"+str(i)+'.xml',\"images_new_resized/green_new/00000\"+str(i+500)+'.xml' )\n",
    "    except:\n",
    "        continue"
   ]
  },
  {
   "cell_type": "code",
   "execution_count": null,
   "metadata": {},
   "outputs": [],
   "source": []
  }
 ],
 "metadata": {
  "kernelspec": {
   "display_name": "Python 3",
   "language": "python",
   "name": "python3"
  },
  "language_info": {
   "codemirror_mode": {
    "name": "ipython",
    "version": 3
   },
   "file_extension": ".py",
   "mimetype": "text/x-python",
   "name": "python",
   "nbconvert_exporter": "python",
   "pygments_lexer": "ipython3",
   "version": "3.7.4"
  }
 },
 "nbformat": 4,
 "nbformat_minor": 2
}
