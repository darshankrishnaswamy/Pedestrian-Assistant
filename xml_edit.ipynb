{
 "cells": [
  {
   "cell_type": "markdown",
   "metadata": {},
   "source": [
    "# This file was used for automatically editing XML files"
   ]
  },
  {
   "cell_type": "code",
   "execution_count": null,
   "metadata": {},
   "outputs": [],
   "source": [
    "import xml.etree.ElementTree as ET"
   ]
  },
  {
   "cell_type": "code",
   "execution_count": null,
   "metadata": {},
   "outputs": [],
   "source": [
    "\"\"\"\n",
    "Changes the file names for the green images in the dataset to increase them by 500 (the size of the red dataset) so that the green and red datasets may be combined into one\n",
    "\"\"\"\n",
    "for i in range(500,977):\n",
    "    path = 'images_new_resized/val_labels/00000'+str(i)+'.xml'\n",
    "    try:\n",
    "        tree = ET.parse(path)\n",
    "        root = tree.getroot()\n",
    "        for child in root:\n",
    "            if child.tag == 'filename':\n",
    "                st = list(child.text)\n",
    "                new = int(st[5])+5\n",
    "                st[5] = new\n",
    "                out = \"\"\n",
    "                for char in st:\n",
    "                    out += str(char)\n",
    "                child.text = out\n",
    "                tree.write(path)\n",
    "    except:\n",
    "        continue"
   ]
  },
  {
   "cell_type": "code",
   "execution_count": null,
   "metadata": {},
   "outputs": [],
   "source": []
  }
 ],
 "metadata": {
  "kernelspec": {
   "display_name": "Python 3",
   "language": "python",
   "name": "python3"
  },
  "language_info": {
   "codemirror_mode": {
    "name": "ipython",
    "version": 3
   },
   "file_extension": ".py",
   "mimetype": "text/x-python",
   "name": "python",
   "nbconvert_exporter": "python",
   "pygments_lexer": "ipython3",
   "version": "3.7.4"
  }
 },
 "nbformat": 4,
 "nbformat_minor": 2
}
