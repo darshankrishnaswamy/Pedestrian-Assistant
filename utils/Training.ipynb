{
 "cells": [
  {
   "cell_type": "code",
   "execution_count": 3,
   "metadata": {},
   "outputs": [],
   "source": [
    "from pathlib import Path\n",
    "\n",
    "import numpy as np\n",
    "import matplotlib.pyplot as plt\n",
    "from matplotlib.patches import Rectangle\n",
    "%matplotlib inline\n",
    "\n",
    "import torch\n",
    "from torch import nn\n",
    "import torch.nn.functional as F\n",
    "\n",
    "from detection_utils.boxes import non_max_suppression, generate_targets\n",
    "from detection_utils.metrics import compute_recall, compute_precision\n",
    "from detection_utils.pytorch import softmax_focal_loss\n",
    "\n",
    "import cv2"
   ]
  },
  {
   "cell_type": "code",
   "execution_count": null,
   "metadata": {},
   "outputs": [],
   "source": [
    "# here we'll define a simple helper function to load a dataset\n",
    "# then load our training and validation sets\n",
    "def load_data(root_dir):\n",
    "    root_dir = Path(root_dir)\n",
    "    images = np.load(root_dir / 'images.npy')\n",
    "    # we're loading object arrays here so we need to allow_pickle\n",
    "    boxes = np.load(root_dir / 'boxes.npy', allow_pickle=True)\n",
    "    labels = np.load(root_dir / 'labels.npy', allow_pickle=True)\n",
    "    return images, boxes, labels\n",
    "\n",
    "train_images, train_boxes, train_labels = load_data('data/train/')\n",
    "val_images, val_boxes, val_labels = load_data('data/val/')\n",
    "\n",
    "# for performance, we'll load all of our images onto our device ahead of time to minimize\n",
    "# data transfers from CPU -> GPU. We know we're working with a small dataset, so this shouldn't\n",
    "# cause problems. This uses about a gigabyte of GPU memory.\n",
    "# We'll do the transpose to convert our images from shape (N, 256, 256, 3) to (N, 3, 256, 256)\n",
    "# which is the ordering we need for our CNN.\n",
    "train_images = torch.tensor(train_images.transpose(0, 3, 1, 2)).to(device)\n",
    "val_images = torch.tensor(val_images.transpose(0, 3, 1, 2)).to(device)"
   ]
  }
 ],
 "metadata": {
  "kernelspec": {
   "display_name": "Python 3",
   "language": "python",
   "name": "python3"
  },
  "language_info": {
   "codemirror_mode": {
    "name": "ipython",
    "version": 3
   },
   "file_extension": ".py",
   "mimetype": "text/x-python",
   "name": "python",
   "nbconvert_exporter": "python",
   "pygments_lexer": "ipython3",
   "version": "3.8.5"
  }
 },
 "nbformat": 4,
 "nbformat_minor": 4
}
