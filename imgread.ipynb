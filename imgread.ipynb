{
 "cells": [
  {
   "cell_type": "code",
   "execution_count": 1,
   "metadata": {},
   "outputs": [
    {
     "name": "stdout",
     "output_type": "stream",
     "text": [
      "(173, 100, 100, 3)\n",
      "(186, 100, 100, 3)\n",
      "(165, 100, 100, 3)\n",
      "(170, 100, 100, 3)\n"
     ]
    }
   ],
   "source": [
    "import cv2\n",
    "import numpy as np\n",
    "import matplotlib.pyplot as plt\n",
    "greendata = []\n",
    "for i in range(1,10):\n",
    "    x = 'green/0000000'+str(i)+\".jpg\"\n",
    "    try:\n",
    "        plt.imshow(cv2.imread(x));\n",
    "        assert cv2.imread(x).shape == (100,100,3)\n",
    "        greendata.append(cv2.imread(x))\n",
    "    except:\n",
    "        pass\n",
    "for i in range(10,100):\n",
    "    x = 'green/000000'+str(i)+\".jpg\"\n",
    "    try:\n",
    "        plt.imshow(cv2.imread(x)); \n",
    "        assert cv2.imread(x).shape == (100,100,3)\n",
    "        greendata.append(cv2.imread(x))\n",
    "    except:\n",
    "         pass\n",
    "for i in range(100,200):\n",
    "    x = 'green/00000'+str(i)+\".jpg\"\n",
    "    try:\n",
    "        plt.imshow(cv2.imread(x)); \n",
    "        assert cv2.imread(x).shape == (100,100,3)\n",
    "        greendata.append(cv2.imread(x))\n",
    "    except:\n",
    "         pass\n",
    "greendata = np.array(greendata)\n",
    "\n",
    "reddata = []\n",
    "for i in range(1,10):\n",
    "    x = 'red/0000000'+str(i)+\".jpg\"\n",
    "    try:\n",
    "        plt.imshow(cv2.imread(x));\n",
    "        assert cv2.imread(x).shape == (100,100,3)\n",
    "        reddata.append(cv2.imread(x))\n",
    "    except:\n",
    "        pass\n",
    "for i in range(10,100):\n",
    "    x = 'red/000000'+str(i)+\".jpg\"\n",
    "    try:\n",
    "        plt.imshow(cv2.imread(x)); \n",
    "        assert cv2.imread(x).shape == (100,100,3)\n",
    "        reddata.append(cv2.imread(x))\n",
    "    except:\n",
    "         pass\n",
    "for i in range(100,200):\n",
    "    x = 'red/00000'+str(i)+\".jpg\"\n",
    "    try:\n",
    "        plt.imshow(cv2.imread(x)); \n",
    "        assert cv2.imread(x).shape == (100,100,3)\n",
    "        reddata.append(cv2.imread(x))\n",
    "    except:\n",
    "         pass\n",
    "reddata = np.array(reddata)\n",
    "\n",
    "redcardata = []\n",
    "for i in range(1,10):\n",
    "    x = 'red_car/0000000'+str(i)+\".jpg\"\n",
    "    try:\n",
    "        plt.imshow(cv2.imread(x));\n",
    "        assert cv2.imread(x).shape == (100,100,3)\n",
    "        redcardata.append(cv2.imread(x))\n",
    "    except:\n",
    "        pass\n",
    "for i in range(10,100):\n",
    "    x = 'red_car/000000'+str(i)+\".jpg\"\n",
    "    try:\n",
    "        plt.imshow(cv2.imread(x)); \n",
    "        assert cv2.imread(x).shape == (100,100,3)\n",
    "        redcardata.append(cv2.imread(x))\n",
    "    except:\n",
    "         pass\n",
    "for i in range(100,200):\n",
    "    x = 'red_car/00000'+str(i)+\".jpg\"\n",
    "    try:\n",
    "        plt.imshow(cv2.imread(x)); \n",
    "        assert cv2.imread(x).shape == (100,100,3)\n",
    "        redcardata.append(cv2.imread(x))\n",
    "    except:\n",
    "         pass\n",
    "redcardata = np.array(redcardata)\n",
    "\n",
    "greencardata = []\n",
    "for i in range(1,10):\n",
    "    x = 'green_car/0000000'+str(i)+\".jpg\"\n",
    "    try:\n",
    "        plt.imshow(cv2.imread(x));\n",
    "        assert cv2.imread(x).shape == (100,100,3)\n",
    "        greencardata.append(cv2.imread(x))\n",
    "    except:\n",
    "        pass\n",
    "for i in range(10,100):\n",
    "    x = 'green_car/000000'+str(i)+\".jpg\"\n",
    "    try:\n",
    "        plt.imshow(cv2.imread(x)); \n",
    "        assert cv2.imread(x).shape == (100,100,3)\n",
    "        greencardata.append(cv2.imread(x))\n",
    "    except:\n",
    "         pass\n",
    "for i in range(100,200):\n",
    "    x = 'green_car/00000'+str(i)+\".jpg\"\n",
    "    try:\n",
    "        plt.imshow(cv2.imread(x));\n",
    "        assert cv2.imread(x).shape == (100,100,3)\n",
    "        greencardata.append(cv2.imread(x))\n",
    "    except:\n",
    "         pass\n",
    "greencardata = np.array(greencardata)\n",
    "print(reddata.shape)\n",
    "print(greendata.shape)\n",
    "print(redcardata.shape)\n",
    "print(greencardata.shape)"
   ]
  },
  {
   "cell_type": "code",
   "execution_count": 2,
   "metadata": {},
   "outputs": [],
   "source": [
    "import numpy as np\n",
    "def same_shuffle(arr1,arr2):\n",
    "    size = arr2.size\n",
    "    print(size)\n",
    "    idxs = np.arange(size)\n",
    "    np.random.shuffle(idxs)\n",
    "    return arr1[idxs], arr2[idxs]"
   ]
  },
  {
   "cell_type": "code",
   "execution_count": 3,
   "metadata": {},
   "outputs": [],
   "source": [
    "greenlist = list(greendata)\n",
    "redlist = list(reddata)\n",
    "greencarlist = list(greencardata)\n",
    "redcarlist = list(redcardata)\n",
    "datalist = greenlist*5+ redlist*5\n",
    "# datalist = greenlist + redlist\n",
    "data = np.array(datalist)"
   ]
  },
  {
   "cell_type": "code",
   "execution_count": 4,
   "metadata": {},
   "outputs": [
    {
     "name": "stdout",
     "output_type": "stream",
     "text": [
      "(1795, 100, 100, 3)\n",
      "1795\n"
     ]
    }
   ],
   "source": [
    "y_green = np.zeros(186*5)\n",
    "y_red = np.zeros(173*5)+1\n",
    "y_green_list = list(y_green)\n",
    "y_red_list = list(y_red)\n",
    "y_list = y_green_list + y_red_list\n",
    "y = np.array(y_list)\n",
    "print(data.shape)\n",
    "data, y = same_shuffle(data, y)"
   ]
  },
  {
   "cell_type": "code",
   "execution_count": 5,
   "metadata": {},
   "outputs": [],
   "source": [
    "import tensorflow as tf\n",
    "from tensorflow.keras import layers, models"
   ]
  },
  {
   "cell_type": "code",
   "execution_count": 6,
   "metadata": {},
   "outputs": [],
   "source": [
    "data_test = data[1400:]\n",
    "data = data[:1400]\n",
    "y_test = y[1400:]\n",
    "y = y[:1400]"
   ]
  },
  {
   "cell_type": "code",
   "execution_count": 7,
   "metadata": {},
   "outputs": [
    {
     "name": "stdout",
     "output_type": "stream",
     "text": [
      "Model: \"sequential\"\n",
      "_________________________________________________________________\n",
      "Layer (type)                 Output Shape              Param #   \n",
      "=================================================================\n",
      "conv2d (Conv2D)              (None, 98, 98, 64)        1792      \n",
      "_________________________________________________________________\n",
      "max_pooling2d (MaxPooling2D) (None, 49, 49, 64)        0         \n",
      "_________________________________________________________________\n",
      "conv2d_1 (Conv2D)            (None, 47, 47, 32)        18464     \n",
      "_________________________________________________________________\n",
      "max_pooling2d_1 (MaxPooling2 (None, 23, 23, 32)        0         \n",
      "_________________________________________________________________\n",
      "conv2d_2 (Conv2D)            (None, 21, 21, 16)        4624      \n",
      "_________________________________________________________________\n",
      "flatten (Flatten)            (None, 7056)              0         \n",
      "_________________________________________________________________\n",
      "dropout (Dropout)            (None, 7056)              0         \n",
      "_________________________________________________________________\n",
      "dense (Dense)                (None, 32)                225824    \n",
      "_________________________________________________________________\n",
      "dropout_1 (Dropout)          (None, 32)                0         \n",
      "_________________________________________________________________\n",
      "dense_1 (Dense)              (None, 8)                 264       \n",
      "_________________________________________________________________\n",
      "dropout_2 (Dropout)          (None, 8)                 0         \n",
      "_________________________________________________________________\n",
      "dense_2 (Dense)              (None, 2)                 18        \n",
      "=================================================================\n",
      "Total params: 250,986\n",
      "Trainable params: 250,986\n",
      "Non-trainable params: 0\n",
      "_________________________________________________________________\n"
     ]
    }
   ],
   "source": [
    "# Change these values\n",
    "model = models.Sequential()\n",
    "model.add(layers.Conv2D(64, (3, 3), activation='relu', input_shape=(100, 100, 3)))\n",
    "model.add(layers.MaxPooling2D((2, 2)))\n",
    "model.add(layers.Conv2D(32, (3, 3), activation='relu'))\n",
    "model.add(layers.MaxPooling2D((2, 2)))\n",
    "model.add(layers.Conv2D(16, (3, 3), activation='relu'))\n",
    "model.add(layers.Flatten())\n",
    "model.add(layers.Dropout(0.2))\n",
    "model.add(layers.Dense(32, activation='relu'))\n",
    "model.add(layers.Dropout(0.2))\n",
    "model.add(layers.Dense(8, activation='relu'))\n",
    "model.add(layers.Dropout(0.2))\n",
    "model.add(layers.Dense(2, activation='softmax'))\n",
    "model.summary()\n",
    "model.compile(optimizer=tf.optimizers.Adam(),\n",
    "              loss='sparse_categorical_crossentropy',\n",
    "              metrics=['accuracy'])"
   ]
  },
  {
   "cell_type": "code",
   "execution_count": null,
   "metadata": {},
   "outputs": [],
   "source": []
  },
  {
   "cell_type": "code",
   "execution_count": 8,
   "metadata": {},
   "outputs": [
    {
     "name": "stdout",
     "output_type": "stream",
     "text": [
      "Train on 1400 samples, validate on 395 samples\n",
      "Epoch 1/30\n",
      "1400/1400 [==============================] - 11s 8ms/sample - loss: 0.9670 - accuracy: 0.5186 - val_loss: 0.5831 - val_accuracy: 0.6734\n",
      "Epoch 2/30\n",
      "1400/1400 [==============================] - 11s 8ms/sample - loss: 0.5430 - accuracy: 0.6936 - val_loss: 0.4125 - val_accuracy: 0.7823\n",
      "Epoch 3/30\n",
      "1400/1400 [==============================] - 11s 8ms/sample - loss: 0.4198 - accuracy: 0.7864 - val_loss: 0.3242 - val_accuracy: 0.8532\n",
      "Epoch 4/30\n",
      "1400/1400 [==============================] - 11s 8ms/sample - loss: 0.3499 - accuracy: 0.8329 - val_loss: 0.5064 - val_accuracy: 0.6253\n",
      "Epoch 5/30\n",
      "1400/1400 [==============================] - 11s 8ms/sample - loss: 0.5352 - accuracy: 0.6829 - val_loss: 0.3905 - val_accuracy: 0.7747\n",
      "Epoch 6/30\n",
      "1400/1400 [==============================] - 11s 8ms/sample - loss: 0.3579 - accuracy: 0.8300 - val_loss: 0.4314 - val_accuracy: 0.6987\n",
      "Epoch 7/30\n",
      "1400/1400 [==============================] - 11s 8ms/sample - loss: 0.3706 - accuracy: 0.8107 - val_loss: 0.2891 - val_accuracy: 0.8658\n",
      "Epoch 8/30\n",
      "1400/1400 [==============================] - 11s 8ms/sample - loss: 0.3307 - accuracy: 0.8571 - val_loss: 0.2644 - val_accuracy: 0.8835\n",
      "Epoch 9/30\n",
      "1400/1400 [==============================] - 11s 8ms/sample - loss: 0.2551 - accuracy: 0.8786 - val_loss: 0.1576 - val_accuracy: 0.8987\n",
      "Epoch 10/30\n",
      "1400/1400 [==============================] - 11s 8ms/sample - loss: 0.1994 - accuracy: 0.9129 - val_loss: 0.1171 - val_accuracy: 0.9519\n",
      "Epoch 11/30\n",
      "1400/1400 [==============================] - 10s 7ms/sample - loss: 0.2449 - accuracy: 0.8921 - val_loss: 0.2071 - val_accuracy: 0.8633\n",
      "Epoch 12/30\n",
      "1400/1400 [==============================] - 11s 8ms/sample - loss: 0.3736 - accuracy: 0.8443 - val_loss: 0.2401 - val_accuracy: 0.8380\n",
      "Epoch 13/30\n",
      "1400/1400 [==============================] - 11s 8ms/sample - loss: 0.2325 - accuracy: 0.8829 - val_loss: 0.1407 - val_accuracy: 0.8987\n",
      "Epoch 14/30\n",
      "1400/1400 [==============================] - 11s 8ms/sample - loss: 0.1867 - accuracy: 0.9193 - val_loss: 0.1567 - val_accuracy: 0.9165\n",
      "Epoch 15/30\n",
      "1400/1400 [==============================] - 11s 8ms/sample - loss: 0.2545 - accuracy: 0.8957 - val_loss: 0.2296 - val_accuracy: 0.8759\n",
      "Epoch 16/30\n",
      "1400/1400 [==============================] - 11s 8ms/sample - loss: 0.2511 - accuracy: 0.8900 - val_loss: 0.1004 - val_accuracy: 0.9443\n",
      "Epoch 17/30\n",
      "1400/1400 [==============================] - 11s 8ms/sample - loss: 0.2092 - accuracy: 0.9307 - val_loss: 0.1429 - val_accuracy: 0.9316\n",
      "Epoch 18/30\n",
      "1400/1400 [==============================] - 11s 8ms/sample - loss: 0.2416 - accuracy: 0.8986 - val_loss: 0.1343 - val_accuracy: 0.9316\n",
      "Epoch 19/30\n",
      "1400/1400 [==============================] - 11s 8ms/sample - loss: 0.1445 - accuracy: 0.9471 - val_loss: 0.0800 - val_accuracy: 0.9646\n",
      "Epoch 20/30\n",
      "1400/1400 [==============================] - 11s 8ms/sample - loss: 0.0967 - accuracy: 0.9607 - val_loss: 0.0460 - val_accuracy: 0.9772\n",
      "Epoch 21/30\n",
      "1400/1400 [==============================] - 11s 8ms/sample - loss: 0.0719 - accuracy: 0.9729 - val_loss: 0.0438 - val_accuracy: 0.9823\n",
      "Epoch 22/30\n",
      "1400/1400 [==============================] - 11s 8ms/sample - loss: 0.1258 - accuracy: 0.9514 - val_loss: 0.0492 - val_accuracy: 0.9899\n",
      "Epoch 23/30\n",
      "1400/1400 [==============================] - 11s 8ms/sample - loss: 0.1047 - accuracy: 0.9564 - val_loss: 0.3229 - val_accuracy: 0.8734\n",
      "Epoch 24/30\n",
      "1400/1400 [==============================] - 10s 7ms/sample - loss: 0.2324 - accuracy: 0.8807 - val_loss: 0.1482 - val_accuracy: 0.9316\n",
      "Epoch 25/30\n",
      "1400/1400 [==============================] - 10s 7ms/sample - loss: 0.2317 - accuracy: 0.9300 - val_loss: 0.1565 - val_accuracy: 0.9316\n",
      "Epoch 26/30\n",
      "1400/1400 [==============================] - 10s 7ms/sample - loss: 0.1704 - accuracy: 0.9314 - val_loss: 0.0781 - val_accuracy: 0.9823\n",
      "Epoch 27/30\n",
      "1400/1400 [==============================] - 11s 8ms/sample - loss: 0.0959 - accuracy: 0.9614 - val_loss: 0.0454 - val_accuracy: 0.9797\n",
      "Epoch 28/30\n",
      "1400/1400 [==============================] - 11s 8ms/sample - loss: 0.0747 - accuracy: 0.9743 - val_loss: 0.0173 - val_accuracy: 0.9949\n",
      "Epoch 29/30\n",
      "1400/1400 [==============================] - 11s 8ms/sample - loss: 0.0819 - accuracy: 0.9643 - val_loss: 0.0274 - val_accuracy: 0.9899\n",
      "Epoch 30/30\n",
      "1400/1400 [==============================] - 12s 8ms/sample - loss: 0.0538 - accuracy: 0.9850 - val_loss: 0.0169 - val_accuracy: 0.9899\n"
     ]
    }
   ],
   "source": [
    "history = model.fit(data, y, epochs=30,validation_data=(data_test,y_test))"
   ]
  },
  {
   "cell_type": "code",
   "execution_count": 9,
   "metadata": {},
   "outputs": [
    {
     "data": {
      "text/plain": [
       "<matplotlib.legend.Legend at 0x107f9ac18>"
      ]
     },
     "execution_count": 9,
     "metadata": {},
     "output_type": "execute_result"
    },
    {
     "data": {
      "image/png": "[encoded data removed]",
      "text/plain": [
       "<Figure size 432x288 with 1 Axes>"
      ]
     },
     "metadata": {
      "needs_background": "light"
     },
     "output_type": "display_data"
    }
   ],
   "source": [
    "plt.plot(history.history['loss'], label='loss')\n",
    "plt.xlabel('Epoch')\n",
    "plt.ylabel('Loss')\n",
    "plt.ylim([0, 1])\n",
    "plt.legend(loc='lower right')\n",
    "plt.plot(history.history['val_accuracy'], label='val_accuracy')\n",
    "plt.xlabel('Epoch')\n",
    "plt.ylabel('Accuracy')\n",
    "plt.ylim([0, 1])\n",
    "plt.legend(loc='lower right')\n",
    "plt.plot(history.history['accuracy'], label='train_accuracy')\n",
    "plt.xlabel('Epoch')\n",
    "plt.ylabel('Accuracy')\n",
    "plt.ylim([0, 1])\n",
    "plt.legend(loc='lower right')"
   ]
  },
  {
   "cell_type": "code",
   "execution_count": 10,
   "metadata": {},
   "outputs": [
    {
     "name": "stdout",
     "output_type": "stream",
     "text": [
      "\r",
      "395/1 [==========================================================================================================================================================================================================================================================================================================================================================================================================================================================================================================================================================================================================================================================================================================================================================================================================================================================================================================================================================================================================================================================================================================================================================================================================================================================================================================================================================================================================================================================================================================================================================================================================================================================================================================================================================================================================================================================================================================================================================================================================================================================================================================================================================================================================================================================================================================================================================================================================================================================================================================================================================================================================================================================================================================================================================================================================================================================================================================================================================================================================================================================================================================================================================================================================================================================================================================================================================================================================================================================================================================================================================================================================================================================================================================================================================================================================================================================================================================================================================================================================================================================================================================================================================================================================================================================================================================================================================================================================================================================================================================================================================================================================================================================================================================================================================================================================================================================================================================================================================================================================================================================================================================================================================================================================================================================================================================================================================================================================================================================================================================================================================================================================================================================================================================================================================================================================================================================================================================================================================================================================================================================================================================================================================================================================================================================================================================================================================================================================================================================================================================================================================================================================================================================================================================================================================================================================================================================================================================================================================================================================================================================================================================================================================================================================================================================================================================================================================================================================================================================================================================================================================================================================================================================================================================================================================================================================================================================================================================================================================================================================================================================================================================================================================================================================================================================================================================================================================================================================================================================================================================================================================================================================================================================================================================================================================================================================================================================================================================================================================================================================================================================================================================================================================================================================================================================================================================================================================================================================================================================================================================================================================================================================================================================================================================================================================================================================================================================================================================================================================================================================================================================================================================================================================================================================================================================================================================================================================================================================================================================================================================================================================================================================================================================================================================================================================================================================================================================================================================================================================================================================================================================================================================================================================================================================================================================================================================================================================================================================================================================================================================================================================================================================================================================================================================================================================================================================================================================================================================================================================================================================================================================================================================================================================================================================================================================================================================================================] - 1s 2ms/sample - loss: 0.0096 - accuracy: 0.9899\n"
     ]
    },
    {
     "name": "stdout",
     "output_type": "stream",
     "text": [
      "[0.01689932900245148, 0.9898734]\n"
     ]
    }
   ],
   "source": [
    "print(model.evaluate(data_test,y_test))"
   ]
  },
  {
   "cell_type": "code",
   "execution_count": 11,
   "metadata": {},
   "outputs": [
    {
     "name": "stdout",
     "output_type": "stream",
     "text": [
      "predicted: [1, 1]\n",
      "real:  1.0 1.0\n"
     ]
    }
   ],
   "source": [
    "pred = model.predict(tf.cast(np.array([data[0],data[7]]),tf.float32))\n",
    "k = []\n",
    "for j in pred:\n",
    "    k.append(j.argmax())\n",
    "print(\"predicted:\",k)\n",
    "print(\"real: \",y[0],y[7])"
   ]
  },
  {
   "cell_type": "code",
   "execution_count": 12,
   "metadata": {},
   "outputs": [],
   "source": [
    "x = np.arange(100).reshape(10,10)"
   ]
  },
  {
   "cell_type": "code",
   "execution_count": 13,
   "metadata": {},
   "outputs": [],
   "source": [
    "import tensorflow.lite as tflite"
   ]
  },
  {
   "cell_type": "code",
   "execution_count": 14,
   "metadata": {},
   "outputs": [],
   "source": [
    "model.save('nn.h5')"
   ]
  },
  {
   "cell_type": "code",
   "execution_count": 15,
   "metadata": {},
   "outputs": [],
   "source": [
    "model2 = tf.keras.models.load_model('nn.h5')"
   ]
  },
  {
   "cell_type": "code",
   "execution_count": 16,
   "metadata": {},
   "outputs": [
    {
     "name": "stdout",
     "output_type": "stream",
     "text": [
      "[[4.6913667e-13 1.0000000e+00]\n",
      " [4.3594520e-13 1.0000000e+00]]\n",
      "1.0 1.0\n"
     ]
    }
   ],
   "source": [
    "print(model2.predict(tf.cast(np.array([data[0],data[6]]),tf.float32)))\n",
    "print(y[0],y[6])"
   ]
  },
  {
   "cell_type": "code",
   "execution_count": null,
   "metadata": {},
   "outputs": [],
   "source": []
  }
 ],
 "metadata": {
  "kernelspec": {
   "display_name": "Python 3",
   "language": "python",
   "name": "python3"
  },
  "language_info": {
   "codemirror_mode": {
    "name": "ipython",
    "version": 3
   },
   "file_extension": ".py",
   "mimetype": "text/x-python",
   "name": "python",
   "nbconvert_exporter": "python",
   "pygments_lexer": "ipython3",
   "version": "3.7.3"
  }
 },
 "nbformat": 4,
 "nbformat_minor": 4
}
