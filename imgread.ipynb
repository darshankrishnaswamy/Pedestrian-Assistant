{
 "cells": [
  {
   "cell_type": "code",
   "execution_count": 3,
   "metadata": {},
   "outputs": [
    {
     "name": "stdout",
     "output_type": "stream",
     "text": [
      "(3648, 2736, 3)\n",
      "(956, 1300, 3)\n",
      "(518, 700, 3)\n",
      "(339, 453, 3)\n",
      "(339, 602, 3)\n",
      "(800, 800, 3)\n",
      "(1390, 858, 3)\n",
      "(1390, 866, 3)\n",
      "(339, 453, 3)\n",
      "(1067, 1280, 3)\n",
      "(182, 277, 3)\n",
      "(800, 800, 3)\n",
      "(667, 1000, 3)\n",
      "(191, 263, 3)\n",
      "(338, 450, 3)\n",
      "(194, 259, 3)\n",
      "(800, 540, 3)\n",
      "(860, 1300, 3)\n",
      "(290, 400, 3)\n"
     ]
    }
   ],
   "source": [
    "import time\n",
    "import cv2\n",
    "import numpy as np\n",
    "for i in range(1,21):\n",
    "    x = 'images/'+str(i)+\".jpg\"\n",
    "    im = cv2.imread(x)\n",
    "    try:\n",
    "        print(im.shape)\n",
    "    except:\n",
    "        pass"
   ]
  },
  {
   "cell_type": "code",
   "execution_count": null,
   "metadata": {},
   "outputs": [],
   "source": []
  }
 ],
 "metadata": {
  "kernelspec": {
   "display_name": "Python 3",
   "language": "python",
   "name": "python3"
  },
  "language_info": {
   "codemirror_mode": {
    "name": "ipython",
    "version": 3
   },
   "file_extension": ".py",
   "mimetype": "text/x-python",
   "name": "python",
   "nbconvert_exporter": "python",
   "pygments_lexer": "ipython3",
   "version": "3.7.3"
  }
 },
 "nbformat": 4,
 "nbformat_minor": 2
}
