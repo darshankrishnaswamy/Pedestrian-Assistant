{
 "cells": [
  {
   "cell_type": "code",
   "execution_count": 1,
   "metadata": {},
   "outputs": [
    {
     "name": "stdout",
     "output_type": "stream",
     "text": [
      "(79, 100, 100, 3)\n",
      "(82, 100, 100, 3)\n"
     ]
    }
   ],
   "source": [
    "import cv2\n",
    "import numpy as np\n",
    "import matplotlib.pyplot as plt\n",
    "greendata = []\n",
    "for i in range(1,10):\n",
    "    x = 'green/0000000'+str(i)+\".jpg\"\n",
    "    try:\n",
    "        plt.imshow(cv2.imread(x))\n",
    "        greendata.append(cv2.imread(x))\n",
    "    except:\n",
    "        pass\n",
    "for i in range(10,100):\n",
    "    x = 'green/000000'+str(i)+\".jpg\"\n",
    "    try:\n",
    "        plt.imshow(cv2.imread(x)); \n",
    "        greendata.append(cv2.imread(x))\n",
    "    except:\n",
    "         pass\n",
    "greendata = np.array(greendata)\n",
    "reddata = []\n",
    "for i in range(1,10):\n",
    "    x = 'red/0000000'+str(i)+\".jpg\"\n",
    "    try:\n",
    "        plt.imshow(cv2.imread(x))\n",
    "        reddata.append(cv2.imread(x))\n",
    "    except:\n",
    "        pass\n",
    "for i in range(10,100):\n",
    "    x = 'red/000000'+str(i)+\".jpg\"\n",
    "    try:\n",
    "        plt.imshow(cv2.imread(x)); \n",
    "        reddata.append(cv2.imread(x))\n",
    "    except:\n",
    "         pass\n",
    "reddata = np.array(reddata)\n",
    "print(reddata.shape)\n",
    "print(greendata.shape)"
   ]
  },
  {
   "cell_type": "code",
   "execution_count": 2,
   "metadata": {},
   "outputs": [],
   "source": [
    "import numpy as np\n",
    "def same_shuffle(arr1,arr2):\n",
    "#     assert arr1.size == arr2.size\n",
    "    size = arr2.size\n",
    "    print(size)\n",
    "    idxs = np.arange(size)\n",
    "    np.random.shuffle(idxs)\n",
    "    return arr1[idxs], arr2[idxs]"
   ]
  },
  {
   "cell_type": "code",
   "execution_count": 3,
   "metadata": {},
   "outputs": [],
   "source": [
    "greenlist = list(greendata)\n",
    "redlist = list(reddata)\n",
    "datalist = greenlist + redlist\n",
    "data = np.array(datalist)"
   ]
  },
  {
   "cell_type": "code",
   "execution_count": 4,
   "metadata": {},
   "outputs": [
    {
     "name": "stdout",
     "output_type": "stream",
     "text": [
      "161\n"
     ]
    }
   ],
   "source": [
    "y_green = np.zeros(82)\n",
    "y_red = np.zeros(79)+1\n",
    "y_green_list = list(y_green)\n",
    "y_red_list = list(y_red)\n",
    "y_list = y_green_list + y_red_list\n",
    "y = np.array(y_list)\n",
    "data, y = same_shuffle(data, y)"
   ]
  },
  {
   "cell_type": "code",
   "execution_count": 5,
   "metadata": {},
   "outputs": [],
   "source": [
    "import tensorflow as tf\n",
    "from tensorflow.keras import layers, models"
   ]
  },
  {
   "cell_type": "code",
   "execution_count": 6,
   "metadata": {},
   "outputs": [
    {
     "name": "stdout",
     "output_type": "stream",
     "text": [
      "Model: \"sequential\"\n",
      "_________________________________________________________________\n",
      "Layer (type)                 Output Shape              Param #   \n",
      "=================================================================\n",
      "conv2d (Conv2D)              (None, 98, 98, 32)        896       \n",
      "_________________________________________________________________\n",
      "max_pooling2d (MaxPooling2D) (None, 49, 49, 32)        0         \n",
      "_________________________________________________________________\n",
      "conv2d_1 (Conv2D)            (None, 47, 47, 64)        18496     \n",
      "_________________________________________________________________\n",
      "max_pooling2d_1 (MaxPooling2 (None, 23, 23, 64)        0         \n",
      "_________________________________________________________________\n",
      "conv2d_2 (Conv2D)            (None, 21, 21, 64)        36928     \n",
      "_________________________________________________________________\n",
      "flatten (Flatten)            (None, 28224)             0         \n",
      "_________________________________________________________________\n",
      "dense (Dense)                (None, 64)                1806400   \n",
      "_________________________________________________________________\n",
      "dense_1 (Dense)              (None, 2)                 130       \n",
      "=================================================================\n",
      "Total params: 1,862,850\n",
      "Trainable params: 1,862,850\n",
      "Non-trainable params: 0\n",
      "_________________________________________________________________\n"
     ]
    }
   ],
   "source": [
    "# Change these values\n",
    "model = models.Sequential()\n",
    "model.add(layers.Conv2D(32, (3, 3), activation='relu', input_shape=(100, 100, 3)))\n",
    "model.add(layers.MaxPooling2D((2, 2)))\n",
    "model.add(layers.Conv2D(64, (3, 3), activation='relu'))\n",
    "model.add(layers.MaxPooling2D((2, 2)))\n",
    "model.add(layers.Conv2D(64, (3, 3), activation='relu'))\n",
    "model.add(layers.Flatten())\n",
    "model.add(layers.Dense(64, activation='relu'))\n",
    "model.add(layers.Dense(2, activation='softmax'))\n",
    "model.summary()\n",
    "model.compile(optimizer='adam',\n",
    "              loss='sparse_categorical_crossentropy',\n",
    "              metrics=['accuracy'])"
   ]
  },
  {
   "cell_type": "code",
   "execution_count": 7,
   "metadata": {
    "scrolled": false
   },
   "outputs": [
    {
     "name": "stdout",
     "output_type": "stream",
     "text": [
      "Train on 161 samples\n",
      "Epoch 1/50\n",
      "161/161 [==============================] - 1s 9ms/sample - loss: 239.4242 - accuracy: 0.4720\n",
      "Epoch 2/50\n",
      "161/161 [==============================] - 1s 5ms/sample - loss: 3.4041 - accuracy: 0.4720\n",
      "Epoch 3/50\n",
      "161/161 [==============================] - 1s 5ms/sample - loss: 0.7953 - accuracy: 0.5839\n",
      "Epoch 4/50\n",
      "161/161 [==============================] - 1s 5ms/sample - loss: 0.6591 - accuracy: 0.5839\n",
      "Epoch 5/50\n",
      "161/161 [==============================] - 1s 5ms/sample - loss: 0.5794 - accuracy: 0.7764\n",
      "Epoch 6/50\n",
      "161/161 [==============================] - 1s 5ms/sample - loss: 0.4335 - accuracy: 0.8447\n",
      "Epoch 7/50\n",
      "161/161 [==============================] - 1s 5ms/sample - loss: 0.3917 - accuracy: 0.8385\n",
      "Epoch 8/50\n",
      "161/161 [==============================] - 1s 5ms/sample - loss: 0.2627 - accuracy: 0.9006\n",
      "Epoch 9/50\n",
      "161/161 [==============================] - 1s 5ms/sample - loss: 0.1580 - accuracy: 0.9752\n",
      "Epoch 10/50\n",
      "161/161 [==============================] - 1s 6ms/sample - loss: 1.0554 - accuracy: 0.8261\n",
      "Epoch 11/50\n",
      "161/161 [==============================] - 1s 6ms/sample - loss: 0.3079 - accuracy: 0.8758\n",
      "Epoch 12/50\n",
      "161/161 [==============================] - 1s 6ms/sample - loss: 0.2010 - accuracy: 0.9503\n",
      "Epoch 13/50\n",
      "161/161 [==============================] - 1s 6ms/sample - loss: 0.2057 - accuracy: 0.9255\n",
      "Epoch 14/50\n",
      "161/161 [==============================] - 1s 6ms/sample - loss: 0.1903 - accuracy: 0.9317\n",
      "Epoch 15/50\n",
      "161/161 [==============================] - 1s 7ms/sample - loss: 0.0645 - accuracy: 0.9938\n",
      "Epoch 16/50\n",
      "161/161 [==============================] - 1s 6ms/sample - loss: 0.0327 - accuracy: 0.9938\n",
      "Epoch 17/50\n",
      "161/161 [==============================] - 1s 6ms/sample - loss: 0.0224 - accuracy: 1.0000\n",
      "Epoch 18/50\n",
      "161/161 [==============================] - 1s 6ms/sample - loss: 0.0414 - accuracy: 0.9876\n",
      "Epoch 19/50\n",
      "161/161 [==============================] - 1s 6ms/sample - loss: 0.0121 - accuracy: 1.0000\n",
      "Epoch 20/50\n",
      "161/161 [==============================] - 1s 6ms/sample - loss: 0.0122 - accuracy: 1.0000\n",
      "Epoch 21/50\n",
      "161/161 [==============================] - 1s 6ms/sample - loss: 0.0087 - accuracy: 1.0000\n",
      "Epoch 22/50\n",
      "161/161 [==============================] - 1s 6ms/sample - loss: 0.0034 - accuracy: 1.0000\n",
      "Epoch 23/50\n",
      "161/161 [==============================] - 1s 6ms/sample - loss: 0.0019 - accuracy: 1.0000\n",
      "Epoch 24/50\n",
      "161/161 [==============================] - 1s 6ms/sample - loss: 9.5853e-04 - accuracy: 1.0000\n",
      "Epoch 25/50\n",
      "161/161 [==============================] - 1s 6ms/sample - loss: 8.7489e-04 - accuracy: 1.0000\n",
      "Epoch 26/50\n",
      "161/161 [==============================] - 1s 6ms/sample - loss: 4.6152e-04 - accuracy: 1.0000\n",
      "Epoch 27/50\n",
      "161/161 [==============================] - 1s 6ms/sample - loss: 4.0542e-04 - accuracy: 1.0000\n",
      "Epoch 28/50\n",
      "161/161 [==============================] - 1s 6ms/sample - loss: 2.8757e-04 - accuracy: 1.0000\n",
      "Epoch 29/50\n",
      "161/161 [==============================] - 1s 6ms/sample - loss: 2.9208e-04 - accuracy: 1.0000\n",
      "Epoch 30/50\n",
      "161/161 [==============================] - 1s 6ms/sample - loss: 2.1480e-04 - accuracy: 1.0000\n",
      "Epoch 31/50\n",
      "161/161 [==============================] - 1s 6ms/sample - loss: 1.8875e-04 - accuracy: 1.0000\n",
      "Epoch 32/50\n",
      "161/161 [==============================] - 1s 6ms/sample - loss: 1.8998e-04 - accuracy: 1.0000\n",
      "Epoch 33/50\n",
      "161/161 [==============================] - 1s 6ms/sample - loss: 1.6248e-04 - accuracy: 1.0000\n",
      "Epoch 34/50\n",
      "161/161 [==============================] - 1s 6ms/sample - loss: 1.4116e-04 - accuracy: 1.0000\n",
      "Epoch 35/50\n",
      "161/161 [==============================] - 1s 6ms/sample - loss: 1.2499e-04 - accuracy: 1.0000\n",
      "Epoch 36/50\n",
      "161/161 [==============================] - 1s 6ms/sample - loss: 1.0069e-04 - accuracy: 1.0000\n",
      "Epoch 37/50\n",
      "161/161 [==============================] - 1s 6ms/sample - loss: 1.0569e-04 - accuracy: 1.0000\n",
      "Epoch 38/50\n",
      "161/161 [==============================] - 1s 6ms/sample - loss: 1.0282e-04 - accuracy: 1.0000\n",
      "Epoch 39/50\n",
      "161/161 [==============================] - 1s 6ms/sample - loss: 8.2210e-05 - accuracy: 1.0000\n",
      "Epoch 40/50\n",
      "161/161 [==============================] - 1s 6ms/sample - loss: 7.6929e-05 - accuracy: 1.0000\n",
      "Epoch 41/50\n",
      "161/161 [==============================] - 1s 7ms/sample - loss: 7.3538e-05 - accuracy: 1.0000\n",
      "Epoch 42/50\n",
      "161/161 [==============================] - 1s 6ms/sample - loss: 6.5401e-05 - accuracy: 1.0000\n",
      "Epoch 43/50\n",
      "161/161 [==============================] - 1s 6ms/sample - loss: 6.3108e-05 - accuracy: 1.0000\n",
      "Epoch 44/50\n",
      "161/161 [==============================] - 1s 7ms/sample - loss: 6.0282e-05 - accuracy: 1.0000\n",
      "Epoch 45/50\n",
      "161/161 [==============================] - 1s 7ms/sample - loss: 5.8403e-05 - accuracy: 1.0000\n",
      "Epoch 46/50\n",
      "161/161 [==============================] - 1s 6ms/sample - loss: 5.9767e-05 - accuracy: 1.0000\n",
      "Epoch 47/50\n",
      "161/161 [==============================] - 1s 6ms/sample - loss: 0.0244 - accuracy: 0.9938\n",
      "Epoch 48/50\n",
      "161/161 [==============================] - 1s 6ms/sample - loss: 0.0809 - accuracy: 0.9752\n",
      "Epoch 49/50\n",
      "161/161 [==============================] - 1s 6ms/sample - loss: 0.0659 - accuracy: 0.9814\n",
      "Epoch 50/50\n",
      "161/161 [==============================] - 1s 6ms/sample - loss: 0.0471 - accuracy: 0.9814\n"
     ]
    }
   ],
   "source": [
    "history = model.fit(data, y, epochs=50)"
   ]
  },
  {
   "cell_type": "code",
   "execution_count": 8,
   "metadata": {},
   "outputs": [
    {
     "data": {
      "text/plain": [
       "<matplotlib.legend.Legend at 0x10869f358>"
      ]
     },
     "execution_count": 8,
     "metadata": {},
     "output_type": "execute_result"
    },
    {
     "data": {
      "image/png": "[encoded data removed]",
      "text/plain": [
       "<Figure size 432x288 with 1 Axes>"
      ]
     },
     "metadata": {
      "needs_background": "light"
     },
     "output_type": "display_data"
    }
   ],
   "source": [
    "plt.plot(history.history['loss'], label='loss')\n",
    "plt.xlabel('Epoch')\n",
    "plt.ylabel('Loss')\n",
    "plt.ylim([0, 1])\n",
    "plt.legend(loc='lower right')\n",
    "plt.plot(history.history['accuracy'], label='accuracy')\n",
    "plt.xlabel('Epoch')\n",
    "plt.ylabel('Accuracy')\n",
    "plt.ylim([0, 1])\n",
    "plt.legend(loc='lower right')"
   ]
  },
  {
   "cell_type": "code",
   "execution_count": null,
   "metadata": {},
   "outputs": [],
   "source": []
  },
  {
   "cell_type": "code",
   "execution_count": 9,
   "metadata": {},
   "outputs": [
    {
     "name": "stdout",
     "output_type": "stream",
     "text": [
      "[[3.9409316e-04 9.9960595e-01]\n",
      " [3.4162454e-08 1.0000000e+00]]\n",
      "1.0 1.0\n"
     ]
    }
   ],
   "source": [
    "print(model.predict(tf.cast(np.array([data[0],data[6]]),tf.float32)))\n",
    "print(y[0],y[6])"
   ]
  },
  {
   "cell_type": "code",
   "execution_count": null,
   "metadata": {},
   "outputs": [],
   "source": [
    "x = np.arange(100).reshape(10,10)"
   ]
  },
  {
   "cell_type": "code",
   "execution_count": null,
   "metadata": {},
   "outputs": [],
   "source": [
    "import tensorflow.lite as tflite"
   ]
  },
  {
   "cell_type": "code",
   "execution_count": 11,
   "metadata": {},
   "outputs": [],
   "source": [
    "model.save('nn.h5')"
   ]
  },
  {
   "cell_type": "code",
   "execution_count": 12,
   "metadata": {},
   "outputs": [],
   "source": [
    "model2 = tf.keras.models.load_model('nn.h5')"
   ]
  },
  {
   "cell_type": "code",
   "execution_count": 13,
   "metadata": {},
   "outputs": [
    {
     "name": "stdout",
     "output_type": "stream",
     "text": [
      "[[3.9409316e-04 9.9960595e-01]\n",
      " [3.4162454e-08 1.0000000e+00]]\n",
      "1.0 1.0\n"
     ]
    }
   ],
   "source": [
    "print(model2.predict(tf.cast(np.array([data[0],data[6]]),tf.float32)))\n",
    "print(y[0],y[6])"
   ]
  },
  {
   "cell_type": "code",
   "execution_count": null,
   "metadata": {},
   "outputs": [],
   "source": []
  }
 ],
 "metadata": {
  "kernelspec": {
   "display_name": "Python 3",
   "language": "python",
   "name": "python3"
  },
  "language_info": {
   "codemirror_mode": {
    "name": "ipython",
    "version": 3
   },
   "file_extension": ".py",
   "mimetype": "text/x-python",
   "name": "python",
   "nbconvert_exporter": "python",
   "pygments_lexer": "ipython3",
   "version": "3.7.3"
  }
 },
 "nbformat": 4,
 "nbformat_minor": 4
}
