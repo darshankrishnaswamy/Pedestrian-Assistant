{
 "cells": [
  {
   "cell_type": "code",
   "execution_count": 1,
   "metadata": {},
   "outputs": [
    {
     "name": "stdout",
     "output_type": "stream",
     "text": [
      "(79, 100, 100, 3)\n",
      "(82, 100, 100, 3)\n"
     ]
    }
   ],
   "source": [
    "\n",
    "import time\n",
    "import cv2\n",
    "import numpy as np\n",
    "import matplotlib.pyplot as plt\n",
    "greendata = []\n",
    "for i in range(1,10):\n",
    "    x = 'green/0000000'+str(i)+\".jpg\"\n",
    "    try:\n",
    "        plt.imshow(cv2.imread(x))\n",
    "        greendata.append(cv2.imread(x))\n",
    "    except:\n",
    "        pass\n",
    "for i in range(10,100):\n",
    "    x = 'green/000000'+str(i)+\".jpg\"\n",
    "    try:\n",
    "        plt.imshow(cv2.imread(x)); \n",
    "        greendata.append(cv2.imread(x))\n",
    "    except:\n",
    "         pass\n",
    "greendata = np.array(greendata)\n",
    "reddata = []\n",
    "for i in range(1,10):\n",
    "    x = 'red/0000000'+str(i)+\".jpg\"\n",
    "    try:\n",
    "        plt.imshow(cv2.imread(x))\n",
    "        reddata.append(cv2.imread(x))\n",
    "    except:\n",
    "        pass\n",
    "for i in range(10,100):\n",
    "    x = 'red/000000'+str(i)+\".jpg\"\n",
    "    try:\n",
    "        plt.imshow(cv2.imread(x)); \n",
    "        reddata.append(cv2.imread(x))\n",
    "    except:\n",
    "         pass\n",
    "reddata = np.array(reddata)\n",
    "print(reddata.shape)\n",
    "print(greendata.shape)"
   ]
  },
  {
   "cell_type": "code",
   "execution_count": 2,
   "metadata": {},
   "outputs": [],
   "source": [
    "import numpy as np\n",
    "def same_shuffle(arr1,arr2):\n",
    "#     assert arr1.size == arr2.size\n",
    "    size = arr2.size\n",
    "    print(size)\n",
    "    idxs = np.arange(size)\n",
    "    np.random.shuffle(idxs)\n",
    "    return arr1[idxs], arr2[idxs]"
   ]
  },
  {
   "cell_type": "code",
   "execution_count": 3,
   "metadata": {},
   "outputs": [],
   "source": [
    "greenlist = list(greendata)\n",
    "redlist = list(reddata)\n",
    "datalist = greenlist + redlist\n",
    "data = np.array(datalist)"
   ]
  },
  {
   "cell_type": "code",
   "execution_count": 4,
   "metadata": {},
   "outputs": [
    {
     "name": "stdout",
     "output_type": "stream",
     "text": [
      "161\n"
     ]
    }
   ],
   "source": [
    "y_green = np.zeros(82)\n",
    "y_red = np.zeros(79)+1\n",
    "y_green_list = list(y_green)\n",
    "y_red_list = list(y_red)\n",
    "y_list = y_green_list + y_red_list\n",
    "y = np.array(y_list)\n",
    "data, y = same_shuffle(data, y)"
   ]
  },
  {
   "cell_type": "code",
   "execution_count": 5,
   "metadata": {},
   "outputs": [],
   "source": [
    "import tensorflow as tf\n",
    "from tensorflow.keras import layers, models"
   ]
  },
  {
   "cell_type": "code",
   "execution_count": 19,
   "metadata": {},
   "outputs": [
    {
     "name": "stdout",
     "output_type": "stream",
     "text": [
      "Model: \"sequential_2\"\n",
      "_________________________________________________________________\n",
      "Layer (type)                 Output Shape              Param #   \n",
      "=================================================================\n",
      "conv2d_6 (Conv2D)            (None, 98, 98, 32)        896       \n",
      "_________________________________________________________________\n",
      "max_pooling2d_4 (MaxPooling2 (None, 49, 49, 32)        0         \n",
      "_________________________________________________________________\n",
      "conv2d_7 (Conv2D)            (None, 47, 47, 64)        18496     \n",
      "_________________________________________________________________\n",
      "max_pooling2d_5 (MaxPooling2 (None, 23, 23, 64)        0         \n",
      "_________________________________________________________________\n",
      "conv2d_8 (Conv2D)            (None, 21, 21, 64)        36928     \n",
      "_________________________________________________________________\n",
      "flatten_2 (Flatten)          (None, 28224)             0         \n",
      "_________________________________________________________________\n",
      "dense_4 (Dense)              (None, 64)                1806400   \n",
      "_________________________________________________________________\n",
      "dense_5 (Dense)              (None, 2)                 130       \n",
      "=================================================================\n",
      "Total params: 1,862,850\n",
      "Trainable params: 1,862,850\n",
      "Non-trainable params: 0\n",
      "_________________________________________________________________\n"
     ]
    }
   ],
   "source": [
    "# Change these values\n",
    "model = models.Sequential()\n",
    "model.add(layers.Conv2D(32, (3, 3), activation='relu', input_shape=(100, 100, 3)))\n",
    "model.add(layers.MaxPooling2D((2, 2)))\n",
    "model.add(layers.Conv2D(64, (3, 3), activation='relu'))\n",
    "model.add(layers.MaxPooling2D((2, 2)))\n",
    "model.add(layers.Conv2D(64, (3, 3), activation='relu'))\n",
    "model.add(layers.Flatten())\n",
    "model.add(layers.Dense(64, activation='relu'))\n",
    "model.add(layers.Dense(2, activation='softmax'))\n",
    "model.summary()\n",
    "model.compile(optimizer='adam',\n",
    "              loss='sparse_categorical_crossentropy',\n",
    "              metrics=['accuracy'])"
   ]
  },
  {
   "cell_type": "code",
   "execution_count": 20,
   "metadata": {},
   "outputs": [],
   "source": [
    "y_train = np.zeros(82)"
   ]
  },
  {
   "cell_type": "code",
   "execution_count": null,
   "metadata": {
    "scrolled": false
   },
   "outputs": [
    {
     "name": "stdout",
     "output_type": "stream",
     "text": [
      "Train on 161 samples\n",
      "Epoch 1/50\n",
      "161/161 [==============================] - 2s 13ms/sample - loss: 203.3078 - accuracy: 0.4845\n",
      "Epoch 2/50\n",
      "161/161 [==============================] - 2s 10ms/sample - loss: 2.5948 - accuracy: 0.4969\n",
      "Epoch 3/50\n",
      "161/161 [==============================] - 1s 9ms/sample - loss: 0.6174 - accuracy: 0.7143\n",
      "Epoch 4/50\n",
      "161/161 [==============================] - 1s 9ms/sample - loss: 0.6015 - accuracy: 0.6708\n",
      "Epoch 5/50\n",
      "161/161 [==============================] - 1s 9ms/sample - loss: 0.4991 - accuracy: 0.7702\n",
      "Epoch 6/50\n",
      "161/161 [==============================] - 1s 9ms/sample - loss: 0.3578 - accuracy: 0.8385\n",
      "Epoch 7/50\n",
      "161/161 [==============================] - 1s 9ms/sample - loss: 0.2947 - accuracy: 0.8696\n",
      "Epoch 8/50\n",
      "161/161 [==============================] - 1s 9ms/sample - loss: 0.1525 - accuracy: 0.9689\n",
      "Epoch 9/50\n",
      "161/161 [==============================] - 1s 9ms/sample - loss: 0.1968 - accuracy: 0.9068\n",
      "Epoch 10/50\n",
      "161/161 [==============================] - 1s 9ms/sample - loss: 0.2773 - accuracy: 0.8696\n",
      "Epoch 11/50\n",
      "161/161 [==============================] - 1s 9ms/sample - loss: 0.1900 - accuracy: 0.9130\n",
      "Epoch 12/50\n",
      "161/161 [==============================] - 1s 9ms/sample - loss: 0.1495 - accuracy: 0.9565\n",
      "Epoch 13/50\n",
      "161/161 [==============================] - 1s 9ms/sample - loss: 0.1008 - accuracy: 0.9814\n",
      "Epoch 14/50\n",
      "161/161 [==============================] - 1s 9ms/sample - loss: 0.0597 - accuracy: 0.9938\n",
      "Epoch 15/50\n",
      "161/161 [==============================] - 1s 9ms/sample - loss: 0.0430 - accuracy: 0.9876\n",
      "Epoch 16/50\n",
      "161/161 [==============================] - 1s 9ms/sample - loss: 0.0302 - accuracy: 0.9938\n",
      "Epoch 17/50\n",
      "161/161 [==============================] - 1s 9ms/sample - loss: 0.0154 - accuracy: 1.0000\n",
      "Epoch 18/50\n",
      "161/161 [==============================] - 1s 9ms/sample - loss: 0.0082 - accuracy: 1.0000\n",
      "Epoch 19/50\n",
      "161/161 [==============================] - 1s 9ms/sample - loss: 0.0139 - accuracy: 1.0000\n",
      "Epoch 20/50\n",
      "161/161 [==============================] - 1s 9ms/sample - loss: 0.0271 - accuracy: 0.9876\n",
      "Epoch 21/50\n",
      "161/161 [==============================] - 1s 9ms/sample - loss: 0.0403 - accuracy: 0.9938\n",
      "Epoch 22/50\n",
      "161/161 [==============================] - 1s 9ms/sample - loss: 0.0673 - accuracy: 0.9814\n",
      "Epoch 23/50\n",
      "161/161 [==============================] - 1s 9ms/sample - loss: 0.0129 - accuracy: 0.9938\n",
      "Epoch 24/50\n",
      "161/161 [==============================] - 1s 9ms/sample - loss: 0.0113 - accuracy: 1.0000\n",
      "Epoch 25/50\n",
      "161/161 [==============================] - 1s 9ms/sample - loss: 0.0072 - accuracy: 1.0000\n",
      "Epoch 26/50\n",
      "161/161 [==============================] - 1s 9ms/sample - loss: 0.0045 - accuracy: 1.0000\n",
      "Epoch 27/50\n",
      "161/161 [==============================] - 1s 9ms/sample - loss: 0.0017 - accuracy: 1.0000\n",
      "Epoch 28/50\n",
      "161/161 [==============================] - 1s 9ms/sample - loss: 0.0012 - accuracy: 1.0000\n",
      "Epoch 29/50\n",
      "161/161 [==============================] - 1s 9ms/sample - loss: 8.2940e-04 - accuracy: 1.0000\n",
      "Epoch 30/50\n",
      "161/161 [==============================] - 1s 9ms/sample - loss: 6.4031e-04 - accuracy: 1.0000\n",
      "Epoch 31/50\n",
      "161/161 [==============================] - 1s 9ms/sample - loss: 5.2067e-04 - accuracy: 1.0000\n",
      "Epoch 32/50\n",
      "161/161 [==============================] - 1s 9ms/sample - loss: 4.3810e-04 - accuracy: 1.0000\n",
      "Epoch 33/50\n",
      "161/161 [==============================] - 1s 9ms/sample - loss: 3.6455e-04 - accuracy: 1.0000\n",
      "Epoch 34/50\n",
      "161/161 [==============================] - 1s 9ms/sample - loss: 3.1273e-04 - accuracy: 1.0000\n",
      "Epoch 35/50\n",
      "161/161 [==============================] - 1s 9ms/sample - loss: 2.7622e-04 - accuracy: 1.0000\n",
      "Epoch 36/50\n",
      "161/161 [==============================] - 1s 9ms/sample - loss: 2.4241e-04 - accuracy: 1.0000\n",
      "Epoch 37/50\n",
      "161/161 [==============================] - 1s 9ms/sample - loss: 2.1714e-04 - accuracy: 1.0000\n",
      "Epoch 38/50\n",
      "161/161 [==============================] - 2s 10ms/sample - loss: 2.0180e-04 - accuracy: 1.0000\n",
      "Epoch 39/50\n",
      "161/161 [==============================] - 1s 9ms/sample - loss: 1.9017e-04 - accuracy: 1.0000\n",
      "Epoch 40/50\n",
      "161/161 [==============================] - 1s 9ms/sample - loss: 1.7689e-04 - accuracy: 1.0000\n",
      "Epoch 41/50\n",
      "161/161 [==============================] - 1s 9ms/sample - loss: 1.6652e-04 - accuracy: 1.0000\n",
      "Epoch 42/50\n",
      "128/161 [======================>.......] - ETA: 0s - loss: 1.3678e-04 - accuracy: 1.0000"
     ]
    }
   ],
   "source": [
    "history = model.fit(data, y, epochs=50)"
   ]
  },
  {
   "cell_type": "code",
   "execution_count": 14,
   "metadata": {},
   "outputs": [
    {
     "data": {
      "text/plain": [
       "<matplotlib.legend.Legend at 0x638114da0>"
      ]
     },
     "execution_count": 14,
     "metadata": {},
     "output_type": "execute_result"
    },
    {
     "data": {
      "image/png": "[encoded data removed]",
      "text/plain": [
       "<Figure size 432x288 with 1 Axes>"
      ]
     },
     "metadata": {
      "needs_background": "light"
     },
     "output_type": "display_data"
    }
   ],
   "source": [
    "plt.plot(history.history['loss'], label='loss')\n",
    "plt.xlabel('Epoch')\n",
    "plt.ylabel('Loss')\n",
    "plt.ylim([0, 1])\n",
    "plt.legend(loc='lower right')\n",
    "plt.plot(history.history['accuracy'], label='accuracy')\n",
    "plt.xlabel('Epoch')\n",
    "plt.ylabel('Accuracy')\n",
    "plt.ylim([0, 1])\n",
    "plt.legend(loc='lower right')"
   ]
  },
  {
   "cell_type": "code",
   "execution_count": null,
   "metadata": {},
   "outputs": [],
   "source": []
  },
  {
   "cell_type": "code",
   "execution_count": 90,
   "metadata": {},
   "outputs": [
    {
     "data": {
      "text/plain": [
       "array([[9.9900132e-01, 9.9868828e-04],\n",
       "       [5.4697257e-01, 4.5302746e-01]], dtype=float32)"
      ]
     },
     "execution_count": 90,
     "metadata": {},
     "output_type": "execute_result"
    }
   ],
   "source": [
    "model.predict(tf.cast(np.array([data[0],data[1]]),tf.float32))"
   ]
  },
  {
   "cell_type": "code",
   "execution_count": 63,
   "metadata": {},
   "outputs": [],
   "source": [
    "x = np.arange(100).reshape(10,10)"
   ]
  },
  {
   "cell_type": "code",
   "execution_count": 64,
   "metadata": {},
   "outputs": [
    {
     "data": {
      "text/plain": [
       "(10,)"
      ]
     },
     "execution_count": 64,
     "metadata": {},
     "output_type": "execute_result"
    }
   ],
   "source": []
  },
  {
   "cell_type": "code",
   "execution_count": null,
   "metadata": {},
   "outputs": [],
   "source": []
  }
 ],
 "metadata": {
  "kernelspec": {
   "display_name": "Python 3",
   "language": "python",
   "name": "python3"
  },
  "language_info": {
   "codemirror_mode": {
    "name": "ipython",
    "version": 3
   },
   "file_extension": ".py",
   "mimetype": "text/x-python",
   "name": "python",
   "nbconvert_exporter": "python",
   "pygments_lexer": "ipython3",
   "version": "3.7.3"
  }
 },
 "nbformat": 4,
 "nbformat_minor": 4
}
