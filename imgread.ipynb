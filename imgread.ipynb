{
 "cells": [
  {
   "cell_type": "code",
   "execution_count": 2,
   "metadata": {},
   "outputs": [
    {
     "name": "stdout",
     "output_type": "stream",
     "text": [
      "(173, 100, 100, 3)\n",
      "(186, 100, 100, 3)\n",
      "(165, 100, 100, 3)\n",
      "(170, 100, 100, 3)\n"
     ]
    }
   ],
   "source": [
    "import cv2\n",
    "import numpy as np\n",
    "import matplotlib.pyplot as plt\n",
    "greendata = []\n",
    "for i in range(1,10):\n",
    "    x = 'Images/green/0000000'+str(i)+\".jpg\"\n",
    "    try:\n",
    "        plt.imshow(cv2.imread(x));\n",
    "        assert cv2.imread(x).shape == (100,100,3)\n",
    "        greendata.append(cv2.imread(x))\n",
    "    except:\n",
    "        pass\n",
    "for i in range(10,100):\n",
    "    x = 'Images/green/000000'+str(i)+\".jpg\"\n",
    "    try:\n",
    "        plt.imshow(cv2.imread(x)); \n",
    "        assert cv2.imread(x).shape == (100,100,3)\n",
    "        greendata.append(cv2.imread(x))\n",
    "    except:\n",
    "         pass\n",
    "for i in range(100,200):\n",
    "    x = 'Images/green/00000'+str(i)+\".jpg\"\n",
    "    try:\n",
    "        plt.imshow(cv2.imread(x)); \n",
    "        assert cv2.imread(x).shape == (100,100,3)\n",
    "        greendata.append(cv2.imread(x))\n",
    "    except:\n",
    "         pass\n",
    "greendata = np.array(greendata)\n",
    "\n",
    "reddata = []\n",
    "for i in range(1,10):\n",
    "    x = 'Images/red/0000000'+str(i)+\".jpg\"\n",
    "    try:\n",
    "        plt.imshow(cv2.imread(x));\n",
    "        assert cv2.imread(x).shape == (100,100,3)\n",
    "        reddata.append(cv2.imread(x))\n",
    "    except:\n",
    "        pass\n",
    "for i in range(10,100):\n",
    "    x = 'Images/red/000000'+str(i)+\".jpg\"\n",
    "    try:\n",
    "        plt.imshow(cv2.imread(x)); \n",
    "        assert cv2.imread(x).shape == (100,100,3)\n",
    "        reddata.append(cv2.imread(x))\n",
    "    except:\n",
    "         pass\n",
    "for i in range(100,200):\n",
    "    x = 'Images/red/00000'+str(i)+\".jpg\"\n",
    "    try:\n",
    "        plt.imshow(cv2.imread(x)); \n",
    "        assert cv2.imread(x).shape == (100,100,3)\n",
    "        reddata.append(cv2.imread(x))\n",
    "    except:\n",
    "         pass\n",
    "reddata = np.array(reddata)\n",
    "\n",
    "redcardata = []\n",
    "for i in range(1,10):\n",
    "    x = 'Images/red_car/0000000'+str(i)+\".jpg\"\n",
    "    try:\n",
    "        plt.imshow(cv2.imread(x));\n",
    "        assert cv2.imread(x).shape == (100,100,3)\n",
    "        redcardata.append(cv2.imread(x))\n",
    "    except:\n",
    "        pass\n",
    "for i in range(10,100):\n",
    "    x = 'Images/red_car/000000'+str(i)+\".jpg\"\n",
    "    try:\n",
    "        plt.imshow(cv2.imread(x)); \n",
    "        assert cv2.imread(x).shape == (100,100,3)\n",
    "        redcardata.append(cv2.imread(x))\n",
    "    except:\n",
    "         pass\n",
    "for i in range(100,200):\n",
    "    x = 'Images/red_car/00000'+str(i)+\".jpg\"\n",
    "    try:\n",
    "        plt.imshow(cv2.imread(x)); \n",
    "        assert cv2.imread(x).shape == (100,100,3)\n",
    "        redcardata.append(cv2.imread(x))\n",
    "    except:\n",
    "         pass\n",
    "redcardata = np.array(redcardata)\n",
    "\n",
    "greencardata = []\n",
    "for i in range(1,10):\n",
    "    x = 'Images/green_car/0000000'+str(i)+\".jpg\"\n",
    "    try:\n",
    "        plt.imshow(cv2.imread(x));\n",
    "        assert cv2.imread(x).shape == (100,100,3)\n",
    "        greencardata.append(cv2.imread(x))\n",
    "    except:\n",
    "        pass\n",
    "for i in range(10,100):\n",
    "    x = 'Images/green_car/000000'+str(i)+\".jpg\"\n",
    "    try:\n",
    "        plt.imshow(cv2.imread(x)); \n",
    "        assert cv2.imread(x).shape == (100,100,3)\n",
    "        greencardata.append(cv2.imread(x))\n",
    "    except:\n",
    "         pass\n",
    "for i in range(100,200):\n",
    "    x = 'Images/green_car/00000'+str(i)+\".jpg\"\n",
    "    try:\n",
    "        plt.imshow(cv2.imread(x));\n",
    "        assert cv2.imread(x).shape == (100,100,3)\n",
    "        greencardata.append(cv2.imread(x))\n",
    "    except:\n",
    "         pass\n",
    "greencardata = np.array(greencardata)\n",
    "print(reddata.shape)\n",
    "print(greendata.shape)\n",
    "print(redcardata.shape)\n",
    "print(greencardata.shape)"
   ]
  },
  {
   "cell_type": "code",
   "execution_count": 3,
   "metadata": {},
   "outputs": [],
   "source": [
    "import numpy as np\n",
    "def same_shuffle(arr1,arr2):\n",
    "    size = arr2.size\n",
    "    print(size)\n",
    "    idxs = np.arange(size)\n",
    "    np.random.shuffle(idxs)\n",
    "    return arr1[idxs], arr2[idxs]"
   ]
  },
  {
   "cell_type": "code",
   "execution_count": 4,
   "metadata": {},
   "outputs": [
    {
     "name": "stdout",
     "output_type": "stream",
     "text": [
      "359\n",
      "(69, 100, 100, 3)\n",
      "(290, 100, 100, 3)\n"
     ]
    }
   ],
   "source": [
    "greenlist = list(greendata)\n",
    "redlist = list(reddata)\n",
    "# greencarlist = list(greencardata)\n",
    "# redcarlist = list(redcardata)\n",
    "datalist = greenlist+redlist\n",
    "data = np.array(datalist)\n",
    "y_green = list(np.zeros(186))\n",
    "y_red = list(np.zeros(173)+1)\n",
    "y = np.array(y_green + y_red)\n",
    "data, y = same_shuffle(data, y)\n",
    "data_test = data[290:]\n",
    "data = data[:290]\n",
    "y_test = y[290:]\n",
    "y = y[:290]\n",
    "print(data_test.shape)\n",
    "print(data.shape)"
   ]
  },
  {
   "cell_type": "code",
   "execution_count": 5,
   "metadata": {},
   "outputs": [],
   "source": [
    "import tensorflow as tf\n",
    "from tensorflow.keras import layers, models"
   ]
  },
  {
   "cell_type": "code",
   "execution_count": 15,
   "metadata": {},
   "outputs": [
    {
     "name": "stdout",
     "output_type": "stream",
     "text": [
      "Model: \"sequential_1\"\n",
      "_________________________________________________________________\n",
      "Layer (type)                 Output Shape              Param #   \n",
      "=================================================================\n",
      "conv2d_3 (Conv2D)            (None, 98, 98, 64)        1792      \n",
      "_________________________________________________________________\n",
      "max_pooling2d_2 (MaxPooling2 (None, 49, 49, 64)        0         \n",
      "_________________________________________________________________\n",
      "conv2d_4 (Conv2D)            (None, 47, 47, 32)        18464     \n",
      "_________________________________________________________________\n",
      "max_pooling2d_3 (MaxPooling2 (None, 23, 23, 32)        0         \n",
      "_________________________________________________________________\n",
      "conv2d_5 (Conv2D)            (None, 21, 21, 16)        4624      \n",
      "_________________________________________________________________\n",
      "flatten_1 (Flatten)          (None, 7056)              0         \n",
      "_________________________________________________________________\n",
      "dropout_3 (Dropout)          (None, 7056)              0         \n",
      "_________________________________________________________________\n",
      "dense_3 (Dense)              (None, 32)                225824    \n",
      "_________________________________________________________________\n",
      "dropout_4 (Dropout)          (None, 32)                0         \n",
      "_________________________________________________________________\n",
      "dense_4 (Dense)              (None, 8)                 264       \n",
      "_________________________________________________________________\n",
      "dropout_5 (Dropout)          (None, 8)                 0         \n",
      "_________________________________________________________________\n",
      "dense_5 (Dense)              (None, 2)                 18        \n",
      "=================================================================\n",
      "Total params: 250,986\n",
      "Trainable params: 250,986\n",
      "Non-trainable params: 0\n",
      "_________________________________________________________________\n"
     ]
    }
   ],
   "source": [
    "# Change these values\n",
    "model = models.Sequential()\n",
    "model.add(layers.Conv2D(64, (3, 3), activation='relu', input_shape=(100, 100, 3)))\n",
    "model.add(layers.MaxPooling2D((2, 2)))\n",
    "model.add(layers.Conv2D(32, (3, 3), activation='relu'))\n",
    "model.add(layers.MaxPooling2D((2, 2)))\n",
    "model.add(layers.Conv2D(16, (3, 3), activation='relu'))\n",
    "model.add(layers.Flatten())\n",
    "model.add(layers.Dropout(0.2))\n",
    "model.add(layers.Dense(32, activation='relu'))\n",
    "model.add(layers.Dropout(0.2))\n",
    "model.add(layers.Dense(8, activation='relu'))\n",
    "model.add(layers.Dropout(0.2))\n",
    "model.add(layers.Dense(2, activation='softmax'))\n",
    "model.summary()\n",
    "model.compile(optimizer=tf.optimizers.Adam(),\n",
    "              loss='sparse_categorical_crossentropy',\n",
    "              metrics=['accuracy'])"
   ]
  },
  {
   "cell_type": "code",
   "execution_count": 16,
   "metadata": {},
   "outputs": [
    {
     "name": "stdout",
     "output_type": "stream",
     "text": [
      "Train on 290 samples, validate on 69 samples\n",
      "Epoch 1/30\n",
      "290/290 [==============================] - 3s 9ms/sample - loss: 5.8372 - accuracy: 0.5069 - val_loss: 0.8608 - val_accuracy: 0.5362\n",
      "Epoch 2/30\n",
      "290/290 [==============================] - 2s 7ms/sample - loss: 0.8728 - accuracy: 0.5448 - val_loss: 0.6869 - val_accuracy: 0.5362\n",
      "Epoch 3/30\n",
      "290/290 [==============================] - 2s 7ms/sample - loss: 0.6969 - accuracy: 0.4690 - val_loss: 0.6636 - val_accuracy: 0.5217\n",
      "Epoch 4/30\n",
      "290/290 [==============================] - 2s 7ms/sample - loss: 0.6859 - accuracy: 0.5552 - val_loss: 0.6599 - val_accuracy: 0.6232\n",
      "Epoch 5/30\n",
      "290/290 [==============================] - 2s 8ms/sample - loss: 0.6454 - accuracy: 0.6000 - val_loss: 0.6563 - val_accuracy: 0.5797\n",
      "Epoch 6/30\n",
      "290/290 [==============================] - 2s 8ms/sample - loss: 0.6106 - accuracy: 0.6069 - val_loss: 1.1890 - val_accuracy: 0.6087\n",
      "Epoch 7/30\n",
      "290/290 [==============================] - 2s 8ms/sample - loss: 0.7144 - accuracy: 0.5897 - val_loss: 0.6212 - val_accuracy: 0.6522\n",
      "Epoch 8/30\n",
      "290/290 [==============================] - 2s 7ms/sample - loss: 0.6077 - accuracy: 0.6552 - val_loss: 0.6375 - val_accuracy: 0.5942\n",
      "Epoch 9/30\n",
      "290/290 [==============================] - 2s 7ms/sample - loss: 0.6275 - accuracy: 0.6655 - val_loss: 0.6567 - val_accuracy: 0.6522\n",
      "Epoch 10/30\n",
      "290/290 [==============================] - 2s 7ms/sample - loss: 0.5837 - accuracy: 0.6828 - val_loss: 0.6503 - val_accuracy: 0.6087\n",
      "Epoch 11/30\n",
      "290/290 [==============================] - 2s 8ms/sample - loss: 0.5530 - accuracy: 0.7276 - val_loss: 0.6887 - val_accuracy: 0.6377\n",
      "Epoch 12/30\n",
      "290/290 [==============================] - 2s 8ms/sample - loss: 0.5061 - accuracy: 0.7448 - val_loss: 0.5916 - val_accuracy: 0.7246\n",
      "Epoch 13/30\n",
      "290/290 [==============================] - 2s 8ms/sample - loss: 0.5658 - accuracy: 0.7241 - val_loss: 0.8425 - val_accuracy: 0.6377\n",
      "Epoch 14/30\n",
      "290/290 [==============================] - 2s 8ms/sample - loss: 0.4632 - accuracy: 0.7966 - val_loss: 0.6555 - val_accuracy: 0.6812\n",
      "Epoch 15/30\n",
      "290/290 [==============================] - 2s 8ms/sample - loss: 0.4012 - accuracy: 0.7931 - val_loss: 0.8963 - val_accuracy: 0.7246\n",
      "Epoch 16/30\n",
      "290/290 [==============================] - 2s 8ms/sample - loss: 0.3461 - accuracy: 0.8276 - val_loss: 1.0972 - val_accuracy: 0.7391\n",
      "Epoch 17/30\n",
      "290/290 [==============================] - 2s 8ms/sample - loss: 0.3268 - accuracy: 0.8448 - val_loss: 1.0227 - val_accuracy: 0.6957\n",
      "Epoch 18/30\n",
      "290/290 [==============================] - 2s 7ms/sample - loss: 0.3048 - accuracy: 0.8690 - val_loss: 0.5851 - val_accuracy: 0.7246\n",
      "Epoch 19/30\n",
      "290/290 [==============================] - 2s 7ms/sample - loss: 0.3254 - accuracy: 0.8172 - val_loss: 0.9566 - val_accuracy: 0.7391\n",
      "Epoch 20/30\n",
      "290/290 [==============================] - 2s 7ms/sample - loss: 0.2937 - accuracy: 0.8621 - val_loss: 0.6791 - val_accuracy: 0.7681\n",
      "Epoch 21/30\n",
      "290/290 [==============================] - 2s 7ms/sample - loss: 0.2676 - accuracy: 0.8966 - val_loss: 1.0147 - val_accuracy: 0.7681\n",
      "Epoch 22/30\n",
      "290/290 [==============================] - 2s 7ms/sample - loss: 0.2605 - accuracy: 0.8552 - val_loss: 0.5654 - val_accuracy: 0.7246\n",
      "Epoch 23/30\n",
      "290/290 [==============================] - 2s 7ms/sample - loss: 0.2267 - accuracy: 0.9000 - val_loss: 1.5462 - val_accuracy: 0.7826\n",
      "Epoch 24/30\n",
      "290/290 [==============================] - 2s 7ms/sample - loss: 0.1950 - accuracy: 0.8931 - val_loss: 1.3272 - val_accuracy: 0.7971\n",
      "Epoch 25/30\n",
      "290/290 [==============================] - 2s 9ms/sample - loss: 0.1840 - accuracy: 0.9103 - val_loss: 1.3207 - val_accuracy: 0.7681\n",
      "Epoch 26/30\n",
      "290/290 [==============================] - 2s 8ms/sample - loss: 0.1675 - accuracy: 0.9207 - val_loss: 1.5497 - val_accuracy: 0.7826\n",
      "Epoch 27/30\n",
      "290/290 [==============================] - 2s 7ms/sample - loss: 0.1808 - accuracy: 0.9103 - val_loss: 0.9231 - val_accuracy: 0.7826\n",
      "Epoch 28/30\n",
      "290/290 [==============================] - 2s 7ms/sample - loss: 0.1802 - accuracy: 0.9414 - val_loss: 1.3337 - val_accuracy: 0.7536\n",
      "Epoch 29/30\n",
      "290/290 [==============================] - 2s 8ms/sample - loss: 0.1372 - accuracy: 0.9517 - val_loss: 2.9630 - val_accuracy: 0.7826\n",
      "Epoch 30/30\n",
      "290/290 [==============================] - 2s 7ms/sample - loss: 0.2984 - accuracy: 0.9034 - val_loss: 0.9925 - val_accuracy: 0.6957\n"
     ]
    }
   ],
   "source": [
    "history = model.fit(data, y, epochs=30,validation_data=(data_test,y_test))"
   ]
  },
  {
   "cell_type": "code",
   "execution_count": 18,
   "metadata": {},
   "outputs": [
    {
     "data": {
      "text/plain": [
       "<matplotlib.legend.Legend at 0x64643ceb8>"
      ]
     },
     "execution_count": 18,
     "metadata": {},
     "output_type": "execute_result"
    },
    {
     "data": {
      "image/png": "[encoded data removed]",
      "text/plain": [
       "<Figure size 432x288 with 1 Axes>"
      ]
     },
     "metadata": {
      "needs_background": "light"
     },
     "output_type": "display_data"
    }
   ],
   "source": [
    "import matplotlib.pyplot as plt\n",
    "%matplotlib inline\n",
    "plt.plot(history.history['val_accuracy'], label='val accuracy')\n",
    "plt.xlabel('Epoch')\n",
    "plt.ylabel('Accuracy')\n",
    "plt.ylim([0, 1])\n",
    "plt.legend(loc='lower right')\n",
    "plt.plot(history.history['accuracy'], label='train accuracy')\n",
    "plt.xlabel('Epoch')\n",
    "plt.ylabel('Accuracy')\n",
    "plt.ylim([0, 1])\n",
    "plt.legend(loc='lower right')\n",
    "plt.plot(history.history['loss'], label='train loss')\n",
    "plt.xlabel('Epoch')\n",
    "plt.ylabel('Loss')\n",
    "plt.ylim([0, 1])\n",
    "plt.legend(loc='lower right')\n",
    "plt.plot(history.history['val_loss'], label='val loss')\n",
    "plt.xlabel('Epoch')\n",
    "plt.ylabel('Loss')\n",
    "plt.ylim([0, 1])\n",
    "plt.legend(loc='lower right')"
   ]
  },
  {
   "cell_type": "code",
   "execution_count": 9,
   "metadata": {},
   "outputs": [],
   "source": [
    "model.save('nn.h5')"
   ]
  },
  {
   "cell_type": "code",
   "execution_count": 10,
   "metadata": {},
   "outputs": [],
   "source": [
    "import tensorflow as tf\n",
    "model2 = tf.keras.models.load_model('nn.h5')"
   ]
  },
  {
   "cell_type": "code",
   "execution_count": 11,
   "metadata": {},
   "outputs": [],
   "source": [
    "cap = cv2.VideoCapture(0)\n",
    "ret,frame = cap.read()\n",
    "frame = cv2.resize(frame, (100,100))"
   ]
  },
  {
   "cell_type": "code",
   "execution_count": 12,
   "metadata": {},
   "outputs": [],
   "source": [
    "def toRGB(image):\n",
    "    return image[:,:,::-1]"
   ]
  },
  {
   "cell_type": "code",
   "execution_count": 8,
   "metadata": {},
   "outputs": [],
   "source": [
    "converter = tf.lite.TFLiteConverter.from_keras_model(model2)"
   ]
  },
  {
   "cell_type": "code",
   "execution_count": 9,
   "metadata": {},
   "outputs": [],
   "source": [
    "tflite_model = converter.convert()"
   ]
  },
  {
   "cell_type": "code",
   "execution_count": 10,
   "metadata": {},
   "outputs": [],
   "source": [
    "with open ('model.tflite', mode='wb') as file:\n",
    "    file.write(tflite_model)"
   ]
  },
  {
   "cell_type": "code",
   "execution_count": null,
   "metadata": {},
   "outputs": [],
   "source": []
  }
 ],
 "metadata": {
  "kernelspec": {
   "display_name": "Python 3",
   "language": "python",
   "name": "python3"
  },
  "language_info": {
   "codemirror_mode": {
    "name": "ipython",
    "version": 3
   },
   "file_extension": ".py",
   "mimetype": "text/x-python",
   "name": "python",
   "nbconvert_exporter": "python",
   "pygments_lexer": "ipython3",
   "version": "3.7.3"
  }
 },
 "nbformat": 4,
 "nbformat_minor": 4
}
