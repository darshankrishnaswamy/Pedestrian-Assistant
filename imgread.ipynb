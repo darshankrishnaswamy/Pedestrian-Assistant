{
 "cells": [
  {
   "cell_type": "code",
   "execution_count": 1,
   "metadata": {},
   "outputs": [
    {
     "name": "stdout",
     "output_type": "stream",
     "text": [
      "(128, 100, 100, 3)\n",
      "(149, 100, 100, 3)\n",
      "(165, 100, 100, 3)\n",
      "(170, 100, 100, 3)\n"
     ]
    }
   ],
   "source": [
    "import cv2\n",
    "import numpy as np\n",
    "import matplotlib.pyplot as plt\n",
    "greendata = []\n",
    "for i in range(1,10):\n",
    "    x = 'Images/green/0000000'+str(i)+\".jpg\"\n",
    "    try:\n",
    "        plt.imshow(cv2.imread(x));\n",
    "        assert cv2.imread(x).shape == (100,100,3)\n",
    "        greendata.append(cv2.imread(x))\n",
    "    except:\n",
    "        pass\n",
    "for i in range(10,100):\n",
    "    x = 'Images/green/000000'+str(i)+\".jpg\"\n",
    "    try:\n",
    "        plt.imshow(cv2.imread(x)); \n",
    "        assert cv2.imread(x).shape == (100,100,3)\n",
    "        greendata.append(cv2.imread(x))\n",
    "    except:\n",
    "         pass\n",
    "for i in range(100,200):\n",
    "    x = 'Images/green/00000'+str(i)+\".jpg\"\n",
    "    try:\n",
    "        plt.imshow(cv2.imread(x)); \n",
    "        assert cv2.imread(x).shape == (100,100,3)\n",
    "        greendata.append(cv2.imread(x))\n",
    "    except:\n",
    "         pass\n",
    "greendata = np.array(greendata)\n",
    "\n",
    "reddata = []\n",
    "for i in range(1,10):\n",
    "    x = 'Images/red/0000000'+str(i)+\".jpg\"\n",
    "    try:\n",
    "        plt.imshow(cv2.imread(x));\n",
    "        assert cv2.imread(x).shape == (100,100,3)\n",
    "        reddata.append(cv2.imread(x))\n",
    "    except:\n",
    "        pass\n",
    "for i in range(10,100):\n",
    "    x = 'Images/red/000000'+str(i)+\".jpg\"\n",
    "    try:\n",
    "        plt.imshow(cv2.imread(x)); \n",
    "        assert cv2.imread(x).shape == (100,100,3)\n",
    "        reddata.append(cv2.imread(x))\n",
    "    except:\n",
    "         pass\n",
    "for i in range(100,200):\n",
    "    x = 'Images/red/00000'+str(i)+\".jpg\"\n",
    "    try:\n",
    "        plt.imshow(cv2.imread(x)); \n",
    "        assert cv2.imread(x).shape == (100,100,3)\n",
    "        reddata.append(cv2.imread(x))\n",
    "    except:\n",
    "         pass\n",
    "reddata = np.array(reddata)\n",
    "\n",
    "redcardata = []\n",
    "for i in range(1,10):\n",
    "    x = 'Images/red_car/0000000'+str(i)+\".jpg\"\n",
    "    try:\n",
    "        plt.imshow(cv2.imread(x));\n",
    "        assert cv2.imread(x).shape == (100,100,3)\n",
    "        redcardata.append(cv2.imread(x))\n",
    "    except:\n",
    "        pass\n",
    "for i in range(10,100):\n",
    "    x = 'Images/red_car/000000'+str(i)+\".jpg\"\n",
    "    try:\n",
    "        plt.imshow(cv2.imread(x)); \n",
    "        assert cv2.imread(x).shape == (100,100,3)\n",
    "        redcardata.append(cv2.imread(x))\n",
    "    except:\n",
    "         pass\n",
    "for i in range(100,200):\n",
    "    x = 'Images/red_car/00000'+str(i)+\".jpg\"\n",
    "    try:\n",
    "        plt.imshow(cv2.imread(x)); \n",
    "        assert cv2.imread(x).shape == (100,100,3)\n",
    "        redcardata.append(cv2.imread(x))\n",
    "    except:\n",
    "         pass\n",
    "redcardata = np.array(redcardata)\n",
    "\n",
    "greencardata = []\n",
    "for i in range(1,10):\n",
    "    x = 'Images/green_car/0000000'+str(i)+\".jpg\"\n",
    "    try:\n",
    "        plt.imshow(cv2.imread(x));\n",
    "        assert cv2.imread(x).shape == (100,100,3)\n",
    "        greencardata.append(cv2.imread(x))\n",
    "    except:\n",
    "        pass\n",
    "for i in range(10,100):\n",
    "    x = 'Images/green_car/000000'+str(i)+\".jpg\"\n",
    "    try:\n",
    "        plt.imshow(cv2.imread(x)); \n",
    "        assert cv2.imread(x).shape == (100,100,3)\n",
    "        greencardata.append(cv2.imread(x))\n",
    "    except:\n",
    "         pass\n",
    "for i in range(100,200):\n",
    "    x = 'Images/green_car/00000'+str(i)+\".jpg\"\n",
    "    try:\n",
    "        plt.imshow(cv2.imread(x));\n",
    "        assert cv2.imread(x).shape == (100,100,3)\n",
    "        greencardata.append(cv2.imread(x))\n",
    "    except:\n",
    "         pass\n",
    "greencardata = np.array(greencardata)\n",
    "print(reddata.shape)\n",
    "print(greendata.shape)\n",
    "print(redcardata.shape)\n",
    "print(greencardata.shape)"
   ]
  },
  {
   "cell_type": "code",
   "execution_count": 2,
   "metadata": {},
   "outputs": [],
   "source": [
    "import numpy as np\n",
    "def same_shuffle(arr1,arr2):\n",
    "    size = arr2.size\n",
    "    print(size)\n",
    "    idxs = np.arange(size)\n",
    "    np.random.shuffle(idxs)\n",
    "    return arr1[idxs], arr2[idxs]"
   ]
  },
  {
   "cell_type": "code",
   "execution_count": 3,
   "metadata": {},
   "outputs": [
    {
     "name": "stdout",
     "output_type": "stream",
     "text": [
      "277\n",
      "(77, 100, 100, 3)\n",
      "(200, 100, 100, 3)\n"
     ]
    }
   ],
   "source": [
    "greenlist = list(greendata)\n",
    "redlist = list(reddata)\n",
    "# greencarlist = list(greencardata)\n",
    "# redcarlist = list(redcardata)\n",
    "datalist = greenlist+redlist\n",
    "data = np.array(datalist)\n",
    "y_green = list(np.zeros(149))\n",
    "y_red = list(np.zeros(128)+1)\n",
    "y = np.array(y_green + y_red)\n",
    "data, y = same_shuffle(data, y)\n",
    "data_test = data[200:]\n",
    "data = data[:200]\n",
    "y_test = y[200:]\n",
    "y = y[:200]\n",
    "print(data_test.shape)\n",
    "print(data.shape)"
   ]
  },
  {
   "cell_type": "code",
   "execution_count": 57,
   "metadata": {},
   "outputs": [],
   "source": [
    "import tensorflow as tf\n",
    "from tensorflow.keras import layers, models"
   ]
  },
  {
   "cell_type": "code",
   "execution_count": 65,
   "metadata": {},
   "outputs": [
    {
     "name": "stdout",
     "output_type": "stream",
     "text": [
      "Model: \"sequential_14\"\n",
      "_________________________________________________________________\n",
      "Layer (type)                 Output Shape              Param #   \n",
      "=================================================================\n",
      "conv2d_42 (Conv2D)           (None, 98, 98, 64)        1792      \n",
      "_________________________________________________________________\n",
      "max_pooling2d_28 (MaxPooling (None, 49, 49, 64)        0         \n",
      "_________________________________________________________________\n",
      "conv2d_43 (Conv2D)           (None, 47, 47, 32)        18464     \n",
      "_________________________________________________________________\n",
      "max_pooling2d_29 (MaxPooling (None, 23, 23, 32)        0         \n",
      "_________________________________________________________________\n",
      "conv2d_44 (Conv2D)           (None, 21, 21, 16)        4624      \n",
      "_________________________________________________________________\n",
      "flatten_14 (Flatten)         (None, 7056)              0         \n",
      "_________________________________________________________________\n",
      "dropout_42 (Dropout)         (None, 7056)              0         \n",
      "_________________________________________________________________\n",
      "dense_42 (Dense)             (None, 32)                225824    \n",
      "_________________________________________________________________\n",
      "dropout_43 (Dropout)         (None, 32)                0         \n",
      "_________________________________________________________________\n",
      "dense_43 (Dense)             (None, 8)                 264       \n",
      "_________________________________________________________________\n",
      "dropout_44 (Dropout)         (None, 8)                 0         \n",
      "_________________________________________________________________\n",
      "dense_44 (Dense)             (None, 2)                 18        \n",
      "=================================================================\n",
      "Total params: 250,986\n",
      "Trainable params: 250,986\n",
      "Non-trainable params: 0\n",
      "_________________________________________________________________\n"
     ]
    }
   ],
   "source": [
    "# Change these hyperparameters?\n",
    "model = models.Sequential()\n",
    "model.add(layers.Conv2D(64, (3, 3), activation='relu', input_shape=(100, 100, 3)))\n",
    "model.add(layers.MaxPooling2D((2, 2)))\n",
    "model.add(layers.Conv2D(32, (3, 3), activation='relu'))\n",
    "model.add(layers.MaxPooling2D((2, 2)))\n",
    "model.add(layers.Conv2D(16, (3, 3), activation='relu'))\n",
    "model.add(layers.Flatten())\n",
    "model.add(layers.Dropout(0.2))\n",
    "model.add(layers.Dense(32, activation='relu'))\n",
    "model.add(layers.Dropout(0.2))\n",
    "model.add(layers.Dense(8, activation='relu'))\n",
    "model.add(layers.Dropout(0.2))\n",
    "model.add(layers.Dense(2, activation='softmax'))\n",
    "model.summary()\n",
    "model.compile(optimizer=tf.optimizers.Adam(),\n",
    "              loss='sparse_categorical_crossentropy',\n",
    "              metrics=['accuracy'])"
   ]
  },
  {
   "cell_type": "code",
   "execution_count": 66,
   "metadata": {},
   "outputs": [
    {
     "name": "stdout",
     "output_type": "stream",
     "text": [
      "WARNING:tensorflow:`period` argument is deprecated. Please use `save_freq` to specify the frequency in number of samples seen.\n",
      "Train on 200 samples, validate on 77 samples\n",
      "Epoch 1/50\n",
      "200/200 [==============================] - 2s 11ms/sample - loss: 5.0616 - accuracy: 0.4200 - val_loss: 0.7277 - val_accuracy: 0.4545\n",
      "Epoch 2/50\n",
      "200/200 [==============================] - 2s 8ms/sample - loss: 1.0280 - accuracy: 0.5800 - val_loss: 0.6694 - val_accuracy: 0.5844\n",
      "Epoch 3/50\n",
      "200/200 [==============================] - 2s 8ms/sample - loss: 0.6803 - accuracy: 0.6500 - val_loss: 0.6552 - val_accuracy: 0.6364\n",
      "Epoch 4/50\n",
      "200/200 [==============================] - 2s 8ms/sample - loss: 0.6132 - accuracy: 0.6850 - val_loss: 0.6202 - val_accuracy: 0.6234\n",
      "Epoch 5/50\n",
      "200/200 [==============================] - 2s 8ms/sample - loss: 0.4972 - accuracy: 0.7150 - val_loss: 0.5958 - val_accuracy: 0.6753\n",
      "Epoch 6/50\n",
      "200/200 [==============================] - 2s 8ms/sample - loss: 0.6059 - accuracy: 0.7000 - val_loss: 0.6404 - val_accuracy: 0.6623\n",
      "Epoch 7/50\n",
      "200/200 [==============================] - 2s 8ms/sample - loss: 0.4952 - accuracy: 0.7450 - val_loss: 0.6197 - val_accuracy: 0.6234\n",
      "Epoch 8/50\n",
      "200/200 [==============================] - 2s 8ms/sample - loss: 0.4878 - accuracy: 0.7400 - val_loss: 0.5544 - val_accuracy: 0.6753\n",
      "Epoch 9/50\n",
      "200/200 [==============================] - 2s 8ms/sample - loss: 0.3847 - accuracy: 0.8100 - val_loss: 0.5074 - val_accuracy: 0.7922\n",
      "Epoch 10/50\n",
      "200/200 [==============================] - 2s 8ms/sample - loss: 0.4848 - accuracy: 0.7650 - val_loss: 0.5406 - val_accuracy: 0.6753\n",
      "Epoch 11/50\n",
      "200/200 [==============================] - 2s 8ms/sample - loss: 0.4234 - accuracy: 0.7750 - val_loss: 0.7709 - val_accuracy: 0.6234\n",
      "Epoch 12/50\n",
      "200/200 [==============================] - 2s 8ms/sample - loss: 0.5179 - accuracy: 0.7450 - val_loss: 0.5375 - val_accuracy: 0.7403\n",
      "Epoch 13/50\n",
      "200/200 [==============================] - 2s 8ms/sample - loss: 0.4027 - accuracy: 0.8100 - val_loss: 0.5523 - val_accuracy: 0.7532\n",
      "Epoch 14/50\n",
      "200/200 [==============================] - 2s 8ms/sample - loss: 0.3936 - accuracy: 0.8300 - val_loss: 0.5551 - val_accuracy: 0.7143\n",
      "Epoch 15/50\n",
      "200/200 [==============================] - 2s 8ms/sample - loss: 0.3629 - accuracy: 0.8250 - val_loss: 1.0620 - val_accuracy: 0.7013\n",
      "Epoch 16/50\n",
      "200/200 [==============================] - 2s 8ms/sample - loss: 0.3394 - accuracy: 0.8750 - val_loss: 0.5229 - val_accuracy: 0.7403\n",
      "Epoch 17/50\n",
      "200/200 [==============================] - 2s 8ms/sample - loss: 0.3113 - accuracy: 0.8550 - val_loss: 0.8567 - val_accuracy: 0.7143\n",
      "Epoch 18/50\n",
      "200/200 [==============================] - 2s 8ms/sample - loss: 0.3520 - accuracy: 0.8250 - val_loss: 0.6089 - val_accuracy: 0.7143\n",
      "Epoch 19/50\n",
      "200/200 [==============================] - 2s 8ms/sample - loss: 0.2602 - accuracy: 0.8600 - val_loss: 1.0204 - val_accuracy: 0.7273\n",
      "Epoch 20/50\n",
      "200/200 [==============================] - 2s 8ms/sample - loss: 0.2883 - accuracy: 0.8850 - val_loss: 0.6402 - val_accuracy: 0.7792\n",
      "Epoch 21/50\n",
      "200/200 [==============================] - 2s 8ms/sample - loss: 0.2056 - accuracy: 0.9150 - val_loss: 0.7142 - val_accuracy: 0.8182\n",
      "Epoch 22/50\n",
      "200/200 [==============================] - 2s 9ms/sample - loss: 0.2061 - accuracy: 0.8900 - val_loss: 0.6001 - val_accuracy: 0.8182\n",
      "Epoch 23/50\n",
      "200/200 [==============================] - 2s 8ms/sample - loss: 0.1692 - accuracy: 0.9300 - val_loss: 1.3208 - val_accuracy: 0.7013\n",
      "Epoch 24/50\n",
      "200/200 [==============================] - 2s 8ms/sample - loss: 0.3652 - accuracy: 0.8850 - val_loss: 0.6657 - val_accuracy: 0.6753\n",
      "Epoch 25/50\n",
      "200/200 [==============================] - 2s 8ms/sample - loss: 0.5325 - accuracy: 0.8450 - val_loss: 0.8444 - val_accuracy: 0.6494\n",
      "Epoch 26/50\n",
      "200/200 [==============================] - 2s 8ms/sample - loss: 0.5111 - accuracy: 0.7100 - val_loss: 0.9165 - val_accuracy: 0.5325\n",
      "Epoch 27/50\n",
      "200/200 [==============================] - 2s 8ms/sample - loss: 0.5065 - accuracy: 0.7800 - val_loss: 0.8045 - val_accuracy: 0.7013\n",
      "Epoch 28/50\n",
      "200/200 [==============================] - 2s 8ms/sample - loss: 0.2722 - accuracy: 0.8750 - val_loss: 1.3228 - val_accuracy: 0.7403\n",
      "Epoch 29/50\n",
      "200/200 [==============================] - 2s 8ms/sample - loss: 0.4330 - accuracy: 0.8900 - val_loss: 1.1109 - val_accuracy: 0.7273\n",
      "Epoch 30/50\n",
      "200/200 [==============================] - 2s 8ms/sample - loss: 0.2180 - accuracy: 0.9150 - val_loss: 1.2138 - val_accuracy: 0.7143\n",
      "Epoch 31/50\n",
      "200/200 [==============================] - 2s 8ms/sample - loss: 0.2397 - accuracy: 0.9200 - val_loss: 1.2748 - val_accuracy: 0.7273\n",
      "Epoch 32/50\n",
      "200/200 [==============================] - 2s 8ms/sample - loss: 0.2682 - accuracy: 0.9100 - val_loss: 1.4873 - val_accuracy: 0.7143\n",
      "Epoch 33/50\n",
      "200/200 [==============================] - 2s 8ms/sample - loss: 0.1835 - accuracy: 0.9100 - val_loss: 1.8647 - val_accuracy: 0.7143\n",
      "Epoch 34/50\n",
      "200/200 [==============================] - 2s 8ms/sample - loss: 0.1502 - accuracy: 0.9500 - val_loss: 1.4252 - val_accuracy: 0.7143\n",
      "Epoch 35/50\n",
      "200/200 [==============================] - 2s 8ms/sample - loss: 0.1194 - accuracy: 0.9500 - val_loss: 2.2758 - val_accuracy: 0.6623\n",
      "Epoch 36/50\n",
      "200/200 [==============================] - 2s 8ms/sample - loss: 0.1376 - accuracy: 0.9500 - val_loss: 0.9172 - val_accuracy: 0.8182\n",
      "Epoch 37/50\n",
      "200/200 [==============================] - 2s 8ms/sample - loss: 0.1717 - accuracy: 0.9350 - val_loss: 1.0607 - val_accuracy: 0.7662\n",
      "Epoch 38/50\n",
      "200/200 [==============================] - 2s 8ms/sample - loss: 0.1829 - accuracy: 0.9500 - val_loss: 1.4827 - val_accuracy: 0.6883\n",
      "Epoch 39/50\n",
      "200/200 [==============================] - 2s 8ms/sample - loss: 0.1099 - accuracy: 0.9850 - val_loss: 1.5843 - val_accuracy: 0.7013\n",
      "Epoch 40/50\n",
      "200/200 [==============================] - 2s 8ms/sample - loss: 0.1712 - accuracy: 0.9600 - val_loss: 1.2997 - val_accuracy: 0.7922\n",
      "Epoch 41/50\n",
      "200/200 [==============================] - 2s 8ms/sample - loss: 0.1355 - accuracy: 0.9250 - val_loss: 1.4033 - val_accuracy: 0.7662\n",
      "Epoch 42/50\n",
      "200/200 [==============================] - 2s 8ms/sample - loss: 0.1665 - accuracy: 0.9550 - val_loss: 0.9817 - val_accuracy: 0.7403\n",
      "Epoch 43/50\n",
      "200/200 [==============================] - 2s 8ms/sample - loss: 0.1592 - accuracy: 0.9400 - val_loss: 1.4787 - val_accuracy: 0.7143\n",
      "Epoch 44/50\n",
      "200/200 [==============================] - 2s 8ms/sample - loss: 0.1943 - accuracy: 0.9250 - val_loss: 0.9281 - val_accuracy: 0.6883\n",
      "Epoch 45/50\n",
      "200/200 [==============================] - 2s 8ms/sample - loss: 0.1894 - accuracy: 0.9300 - val_loss: 0.8618 - val_accuracy: 0.7792\n",
      "Epoch 46/50\n",
      "200/200 [==============================] - 2s 9ms/sample - loss: 0.1183 - accuracy: 0.9600 - val_loss: 1.4790 - val_accuracy: 0.7403\n",
      "Epoch 47/50\n",
      "200/200 [==============================] - 2s 9ms/sample - loss: 0.1171 - accuracy: 0.9750 - val_loss: 1.6539 - val_accuracy: 0.7792\n",
      "Epoch 48/50\n",
      "200/200 [==============================] - 2s 9ms/sample - loss: 0.0926 - accuracy: 0.9500 - val_loss: 1.6267 - val_accuracy: 0.7792\n",
      "Epoch 49/50\n",
      "200/200 [==============================] - 2s 8ms/sample - loss: 0.0788 - accuracy: 0.9650 - val_loss: 1.6929 - val_accuracy: 0.7403\n",
      "Epoch 50/50\n",
      "200/200 [==============================] - 2s 9ms/sample - loss: 0.0770 - accuracy: 0.9600 - val_loss: 1.8726 - val_accuracy: 0.7403\n"
     ]
    }
   ],
   "source": [
    "filepath = 'weights.{epoch:02d}-{val_accuracy:.2f}.h5'\n",
    "j = [tf.keras.callbacks.ModelCheckpoint(filepath, monitor='val_accuracy', verbose=0, save_best_only=False, save_weights_only=False, mode='auto', period=1)]\n",
    "history = model.fit(data, y, epochs=50,validation_data=(data_test,y_test), callbacks=j)"
   ]
  },
  {
   "cell_type": "code",
   "execution_count": 82,
   "metadata": {},
   "outputs": [
    {
     "data": {
      "text/plain": [
       "<matplotlib.legend.Legend at 0x6478cd978>"
      ]
     },
     "execution_count": 82,
     "metadata": {},
     "output_type": "execute_result"
    },
    {
     "data": {
      "image/png": "[encoded data removed]",
      "text/plain": [
       "<Figure size 432x288 with 1 Axes>"
      ]
     },
     "metadata": {
      "needs_background": "light"
     },
     "output_type": "display_data"
    }
   ],
   "source": [
    "import matplotlib.pyplot as plt\n",
    "%matplotlib inline\n",
    "plt.plot(history.history['val_accuracy'], label='val accuracy')\n",
    "plt.xlabel('Epoch')\n",
    "plt.ylabel('Accuracy')\n",
    "# plt.ylim([0, 1])\n",
    "plt.legend(loc='lower right')\n",
    "plt.plot(history.history['accuracy'], label='train accuracy')\n",
    "plt.xlabel('Epoch')\n",
    "plt.ylabel('Accuracy')\n",
    "# plt.ylim([0, 1])\n",
    "plt.legend(loc='lower right')\n",
    "plt.plot(history.history['loss'], label='train loss')\n",
    "plt.xlabel('Epoch')\n",
    "plt.ylabel('Loss')\n",
    "plt.ylim([0, 1])\n",
    "plt.legend(loc='lower right')\n",
    "plt.xlim([0,21])\n",
    "plt.legend(loc='lower right')"
   ]
  },
  {
   "cell_type": "code",
   "execution_count": 9,
   "metadata": {},
   "outputs": [],
   "source": [
    "model.save('nn.h5')"
   ]
  },
  {
   "cell_type": "code",
   "execution_count": 21,
   "metadata": {},
   "outputs": [],
   "source": [
    "import tensorflow as tf\n",
    "model2 = tf.keras.models.load_model('nn.h5')"
   ]
  },
  {
   "cell_type": "code",
   "execution_count": 2,
   "metadata": {},
   "outputs": [
    {
     "ename": "NameError",
     "evalue": "name 'cv2' is not defined",
     "output_type": "error",
     "traceback": [
      "\u001b[0;31m---------------------------------------------------------------------------\u001b[0m",
      "\u001b[0;31mNameError\u001b[0m                                 Traceback (most recent call last)",
      "\u001b[0;32m<ipython-input-2-72ecdd207203>\u001b[0m in \u001b[0;36m<module>\u001b[0;34m\u001b[0m\n\u001b[0;32m----> 1\u001b[0;31m \u001b[0mcap\u001b[0m \u001b[0;34m=\u001b[0m \u001b[0mcv2\u001b[0m\u001b[0;34m.\u001b[0m\u001b[0mVideoCapture\u001b[0m\u001b[0;34m(\u001b[0m\u001b[0;36m0\u001b[0m\u001b[0;34m)\u001b[0m\u001b[0;34m\u001b[0m\u001b[0;34m\u001b[0m\u001b[0m\n\u001b[0m\u001b[1;32m      2\u001b[0m \u001b[0mret\u001b[0m\u001b[0;34m,\u001b[0m\u001b[0mframe\u001b[0m \u001b[0;34m=\u001b[0m \u001b[0mcap\u001b[0m\u001b[0;34m.\u001b[0m\u001b[0mread\u001b[0m\u001b[0;34m(\u001b[0m\u001b[0;34m)\u001b[0m\u001b[0;34m\u001b[0m\u001b[0;34m\u001b[0m\u001b[0m\n\u001b[1;32m      3\u001b[0m \u001b[0mframe\u001b[0m \u001b[0;34m=\u001b[0m \u001b[0mcv2\u001b[0m\u001b[0;34m.\u001b[0m\u001b[0mresize\u001b[0m\u001b[0;34m(\u001b[0m\u001b[0mframe\u001b[0m\u001b[0;34m,\u001b[0m \u001b[0;34m(\u001b[0m\u001b[0;36m100\u001b[0m\u001b[0;34m,\u001b[0m\u001b[0;36m100\u001b[0m\u001b[0;34m)\u001b[0m\u001b[0;34m)\u001b[0m\u001b[0;34m\u001b[0m\u001b[0;34m\u001b[0m\u001b[0m\n",
      "\u001b[0;31mNameError\u001b[0m: name 'cv2' is not defined"
     ]
    }
   ],
   "source": [
    "cap = cv2.VideoCapture(0)\n",
    "ret,frame = cap.read()\n",
    "frame = cv2.resize(frame, (100,100))"
   ]
  },
  {
   "cell_type": "code",
   "execution_count": null,
   "metadata": {},
   "outputs": [],
   "source": [
    "def toRGB(image):\n",
    "    return image[:,:,::-1]"
   ]
  },
  {
   "cell_type": "code",
   "execution_count": 2,
   "metadata": {},
   "outputs": [
    {
     "ename": "NameError",
     "evalue": "name 'model' is not defined",
     "output_type": "error",
     "traceback": [
      "\u001b[0;31m---------------------------------------------------------------------------\u001b[0m",
      "\u001b[0;31mNameError\u001b[0m                                 Traceback (most recent call last)",
      "\u001b[0;32m<ipython-input-2-3e84dbd4022a>\u001b[0m in \u001b[0;36m<module>\u001b[0;34m\u001b[0m\n\u001b[1;32m      1\u001b[0m \u001b[0;32mimport\u001b[0m \u001b[0mtensorflow\u001b[0m \u001b[0;32mas\u001b[0m \u001b[0mtf\u001b[0m\u001b[0;34m\u001b[0m\u001b[0;34m\u001b[0m\u001b[0m\n\u001b[0;32m----> 2\u001b[0;31m \u001b[0mconverter\u001b[0m \u001b[0;34m=\u001b[0m \u001b[0mtf\u001b[0m\u001b[0;34m.\u001b[0m\u001b[0mlite\u001b[0m\u001b[0;34m.\u001b[0m\u001b[0mTFLiteConverter\u001b[0m\u001b[0;34m.\u001b[0m\u001b[0mfrom_keras_model\u001b[0m\u001b[0;34m(\u001b[0m\u001b[0mmodel\u001b[0m\u001b[0;34m)\u001b[0m\u001b[0;34m\u001b[0m\u001b[0;34m\u001b[0m\u001b[0m\n\u001b[0m",
      "\u001b[0;31mNameError\u001b[0m: name 'model' is not defined"
     ]
    }
   ],
   "source": [
    "import tensorflow as tf\n",
    "converter = tf.lite.TFLiteConverter.from_keras_model(model)"
   ]
  },
  {
   "cell_type": "code",
   "execution_count": null,
   "metadata": {},
   "outputs": [],
   "source": [
    "tflite_model = converter.convert()"
   ]
  },
  {
   "cell_type": "code",
   "execution_count": 24,
   "metadata": {},
   "outputs": [],
   "source": [
    "with open ('model.tflite', mode='wb') as file:\n",
    "    file.write(tflite_model)"
   ]
  },
  {
   "cell_type": "code",
   "execution_count": 25,
   "metadata": {},
   "outputs": [],
   "source": [
    "converter.optimizations = [tf.lite.Optimize.OPTIMIZE_FOR_SIZE]\n",
    "tflite_quant_model = converter.convert()\n",
    "with open ('detect_model.tflite', mode='wb') as file:\n",
    "    file.write(tflite_quant_model)"
   ]
  },
  {
   "cell_type": "code",
   "execution_count": 20,
   "metadata": {},
   "outputs": [
    {
     "data": {
      "text/plain": [
       "array([[0.5297128 , 0.47028726]], dtype=float32)"
      ]
     },
     "execution_count": 20,
     "metadata": {},
     "output_type": "execute_result"
    }
   ],
   "source": [
    "model2.predict(np.argmax(np.array([data[1]], dtype=np.float32))"
   ]
  },
  {
   "cell_type": "code",
   "execution_count": null,
   "metadata": {},
   "outputs": [],
   "source": []
  }
 ],
 "metadata": {
  "kernelspec": {
   "display_name": "Python 3",
   "language": "python",
   "name": "python3"
  },
  "language_info": {
   "codemirror_mode": {
    "name": "ipython",
    "version": 3
   },
   "file_extension": ".py",
   "mimetype": "text/x-python",
   "name": "python",
   "nbconvert_exporter": "python",
   "pygments_lexer": "ipython3",
   "version": "3.7.3"
  }
 },
 "nbformat": 4,
 "nbformat_minor": 4
}
